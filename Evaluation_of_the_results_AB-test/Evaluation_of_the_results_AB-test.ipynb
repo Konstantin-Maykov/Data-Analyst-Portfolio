{
 "cells": [
  {
   "cell_type": "markdown",
   "id": "b3a31c0d",
   "metadata": {},
   "source": [
    "# Оценка результатов АВ-теста"
   ]
  },
  {
   "cell_type": "markdown",
   "id": "8a0e00fc",
   "metadata": {
    "toc": true
   },
   "source": [
    "<h1>План<span class=\"tocSkip\"></span></h1>\n",
    "<div class=\"toc\"><ul class=\"toc-item\"><li><span><a href=\"#Описание-проекта\" data-toc-modified-id=\"Описание-проекта-1\"><span class=\"toc-item-num\">1&nbsp;&nbsp;</span>Описание проекта</a></span></li><li><span><a href=\"#Описание-данных\" data-toc-modified-id=\"Описание-данных-2\"><span class=\"toc-item-num\">2&nbsp;&nbsp;</span>Описание данных</a></span></li><li><span><a href=\"#Изучение-общей-информации\" data-toc-modified-id=\"Изучение-общей-информации-3\"><span class=\"toc-item-num\">3&nbsp;&nbsp;</span>Изучение общей информации</a></span></li><li><span><a href=\"#Предобрабока-данных\" data-toc-modified-id=\"Предобрабока-данных-4\"><span class=\"toc-item-num\">4&nbsp;&nbsp;</span>Предобрабока данных</a></span><ul class=\"toc-item\"><li><span><a href=\"#Приведение-названий-столбцов-фрейма-hypothesis-и-orders-в-соответствие-с-хорошим-стилем\" data-toc-modified-id=\"Приведение-названий-столбцов-фрейма-hypothesis-и-orders-в-соответствие-с-хорошим-стилем-4.1\"><span class=\"toc-item-num\">4.1&nbsp;&nbsp;</span>Приведение названий столбцов фрейма hypothesis и orders в соответствие с хорошим стилем</a></span></li><li><span><a href=\"#Преобразование-данных-столбцов-в-тип-datetime\" data-toc-modified-id=\"Преобразование-данных-столбцов-в-тип-datetime-4.2\"><span class=\"toc-item-num\">4.2&nbsp;&nbsp;</span>Преобразование данных столбцов в тип datetime</a></span></li><li><span><a href=\"#Проверка-на-явные-дубликаты-в-датасетах\" data-toc-modified-id=\"Проверка-на-явные-дубликаты-в-датасетах-4.3\"><span class=\"toc-item-num\">4.3&nbsp;&nbsp;</span>Проверка на явные дубликаты в датасетах</a></span></li><li><span><a href=\"#Проверка-на-неявные-дубликаты\" data-toc-modified-id=\"Проверка-на-неявные-дубликаты-4.4\"><span class=\"toc-item-num\">4.4&nbsp;&nbsp;</span>Проверка на неявные дубликаты</a></span></li><li><span><a href=\"#Проверка-на-явные-аномалии\" data-toc-modified-id=\"Проверка-на-явные-аномалии-4.5\"><span class=\"toc-item-num\">4.5&nbsp;&nbsp;</span>Проверка на явные аномалии</a></span></li><li><span><a href=\"#Определение-дат-начала-и-конца-теста\" data-toc-modified-id=\"Определение-дат-начала-и-конца-теста-4.6\"><span class=\"toc-item-num\">4.6&nbsp;&nbsp;</span>Определение дат начала и конца теста</a></span></li><li><span><a href=\"#Проверка-на-совпадение-пользователей-в-группах---по-таблице-с-заказами\" data-toc-modified-id=\"Проверка-на-совпадение-пользователей-в-группах---по-таблице-с-заказами-4.7\"><span class=\"toc-item-num\">4.7&nbsp;&nbsp;</span>Проверка на совпадение пользователей в группах - по таблице с заказами</a></span></li><li><span><a href=\"#Определяю-количество-пользователей-в-каждой-группе---по-таблице-с-заказами\" data-toc-modified-id=\"Определяю-количество-пользователей-в-каждой-группе---по-таблице-с-заказами-4.8\"><span class=\"toc-item-num\">4.8&nbsp;&nbsp;</span>Определяю количество пользователей в каждой группе - по таблице с заказами</a></span></li><li><span><a href=\"#Динамика-посетителей-по-дням-по-группам\" data-toc-modified-id=\"Динамика-посетителей-по-дням-по-группам-4.9\"><span class=\"toc-item-num\">4.9&nbsp;&nbsp;</span>Динамика посетителей по дням по группам</a></span></li><li><span><a href=\"#Выводы-по-3-части\" data-toc-modified-id=\"Выводы-по-3-части-4.10\"><span class=\"toc-item-num\">4.10&nbsp;&nbsp;</span>Выводы по 3 части</a></span></li></ul></li><li><span><a href=\"#Приоритизация-гипотез\" data-toc-modified-id=\"Приоритизация-гипотез-5\"><span class=\"toc-item-num\">5&nbsp;&nbsp;</span>Приоритизация гипотез</a></span><ul class=\"toc-item\"><li><span><a href=\"#Приоритизация-гипотез-с-помощью-фреймворка-ICE\" data-toc-modified-id=\"Приоритизация-гипотез-с-помощью-фреймворка-ICE-5.1\"><span class=\"toc-item-num\">5.1&nbsp;&nbsp;</span>Приоритизация гипотез с помощью фреймворка ICE</a></span></li><li><span><a href=\"#Приоритизация-гипотез-с-помощью-фреймворка-RICE\" data-toc-modified-id=\"Приоритизация-гипотез-с-помощью-фреймворка-RICE-5.2\"><span class=\"toc-item-num\">5.2&nbsp;&nbsp;</span>Приоритизация гипотез с помощью фреймворка RICE</a></span></li><li><span><a href=\"#Вывод-по-части-4\" data-toc-modified-id=\"Вывод-по-части-4-5.3\"><span class=\"toc-item-num\">5.3&nbsp;&nbsp;</span>Вывод по части 4</a></span></li></ul></li><li><span><a href=\"#Анализ-A/B-теста\" data-toc-modified-id=\"Анализ-A/B-теста-6\"><span class=\"toc-item-num\">6&nbsp;&nbsp;</span>Анализ A/B-теста</a></span><ul class=\"toc-item\"><li><span><a href=\"#Построение-графика-кумулятивной-выручки-по-группам\" data-toc-modified-id=\"Построение-графика-кумулятивной-выручки-по-группам-6.1\"><span class=\"toc-item-num\">6.1&nbsp;&nbsp;</span>Построение графика кумулятивной выручки по группам</a></span></li><li><span><a href=\"#Построение-графика-кумулятивного-среднего-чека-по-группам\" data-toc-modified-id=\"Построение-графика-кумулятивного-среднего-чека-по-группам-6.2\"><span class=\"toc-item-num\">6.2&nbsp;&nbsp;</span>Построение графика кумулятивного среднего чека по группам</a></span></li><li><span><a href=\"#Построение-графика-относительного-изменения-кумулятивного-среднего-чека-группы-B-к-группе-A\" data-toc-modified-id=\"Построение-графика-относительного-изменения-кумулятивного-среднего-чека-группы-B-к-группе-A-6.3\"><span class=\"toc-item-num\">6.3&nbsp;&nbsp;</span>Построение графика относительного изменения кумулятивного среднего чека группы B к группе A</a></span></li><li><span><a href=\"#Построение-графика-кумулятивного-среднего-количества-заказов-на-посетителя-по-группам\" data-toc-modified-id=\"Построение-графика-кумулятивного-среднего-количества-заказов-на-посетителя-по-группам-6.4\"><span class=\"toc-item-num\">6.4&nbsp;&nbsp;</span>Построение графика кумулятивного среднего количества заказов на посетителя по группам</a></span></li><li><span><a href=\"#Построение-графика-относительного-изменения-кумулятивного-среднего-количества-заказов-на-посетителя-группы-B-к-группе-A\" data-toc-modified-id=\"Построение-графика-относительного-изменения-кумулятивного-среднего-количества-заказов-на-посетителя-группы-B-к-группе-A-6.5\"><span class=\"toc-item-num\">6.5&nbsp;&nbsp;</span>Построение графика относительного изменения кумулятивного среднего количества заказов на посетителя группы B к группе A</a></span></li><li><span><a href=\"#Построение-точечного-графика-количества-заказов-по-пользователям\" data-toc-modified-id=\"Построение-точечного-графика-количества-заказов-по-пользователям-6.6\"><span class=\"toc-item-num\">6.6&nbsp;&nbsp;</span>Построение точечного графика количества заказов по пользователям</a></span></li><li><span><a href=\"#Расчет-95-ого-и-99-ого-перцентилей-количества-заказов-на-пользователя\" data-toc-modified-id=\"Расчет-95-ого-и-99-ого-перцентилей-количества-заказов-на-пользователя-6.7\"><span class=\"toc-item-num\">6.7&nbsp;&nbsp;</span>Расчет 95-ого и 99-ого перцентилей количества заказов на пользователя</a></span></li><li><span><a href=\"#Построение-точечного-графика-стоимостей-заказов\" data-toc-modified-id=\"Построение-точечного-графика-стоимостей-заказов-6.8\"><span class=\"toc-item-num\">6.8&nbsp;&nbsp;</span>Построение точечного графика стоимостей заказов</a></span></li><li><span><a href=\"#Расчет-95-ого-и-99-ого-перцентилей-стоимости-заказов\" data-toc-modified-id=\"Расчет-95-ого-и-99-ого-перцентилей-стоимости-заказов-6.9\"><span class=\"toc-item-num\">6.9&nbsp;&nbsp;</span>Расчет 95-ого и 99-ого перцентилей стоимости заказов</a></span></li><li><span><a href=\"#Расчет-статистической-значимости-различий-в-среднем-количестве-заказов-на-посетителя-между-группами-по-«сырым»-данным\" data-toc-modified-id=\"Расчет-статистической-значимости-различий-в-среднем-количестве-заказов-на-посетителя-между-группами-по-«сырым»-данным-6.10\"><span class=\"toc-item-num\">6.10&nbsp;&nbsp;</span>Расчет статистической значимости различий в среднем количестве заказов на посетителя между группами по «сырым» данным</a></span></li><li><span><a href=\"#Расчет-статистической-значимости-различий-в-среднем-чеке-заказа-между-группами-по-«сырым»-данным\" data-toc-modified-id=\"Расчет-статистической-значимости-различий-в-среднем-чеке-заказа-между-группами-по-«сырым»-данным-6.11\"><span class=\"toc-item-num\">6.11&nbsp;&nbsp;</span>Расчет статистической значимости различий в среднем чеке заказа между группами по «сырым» данным</a></span></li><li><span><a href=\"#Расчет-статистической-значимости-различий-в-среднем-количестве-заказов-на-посетителя-между-группами-по-«очищенным»-данным\" data-toc-modified-id=\"Расчет-статистической-значимости-различий-в-среднем-количестве-заказов-на-посетителя-между-группами-по-«очищенным»-данным-6.12\"><span class=\"toc-item-num\">6.12&nbsp;&nbsp;</span>Расчет статистической значимости различий в среднем количестве заказов на посетителя между группами по «очищенным» данным</a></span></li><li><span><a href=\"#Расчет-статистической-значимости-различий-в-среднем-чеке-заказа-между-группами-по-«очищенным»-данным\" data-toc-modified-id=\"Расчет-статистической-значимости-различий-в-среднем-чеке-заказа-между-группами-по-«очищенным»-данным-6.13\"><span class=\"toc-item-num\">6.13&nbsp;&nbsp;</span>Расчет статистической значимости различий в среднем чеке заказа между группами по «очищенным» данным</a></span></li><li><span><a href=\"#Принятие-решения-по-результатам-теста\" data-toc-modified-id=\"Принятие-решения-по-результатам-теста-6.14\"><span class=\"toc-item-num\">6.14&nbsp;&nbsp;</span>Принятие решения по результатам теста</a></span></li></ul></li></ul></div>"
   ]
  },
  {
   "cell_type": "markdown",
   "id": "a4bb1ec0",
   "metadata": {},
   "source": [
    "## Описание проекта"
   ]
  },
  {
   "cell_type": "markdown",
   "id": "7f1550f7",
   "metadata": {},
   "source": [
    "В крупном интернет-магазине отделом маркетинга был подготовлен список гипотез для увеличения выручки.\n",
    "Необходимо приоритизировать гипотезы, запустить A/B-тест и проанализировать результаты."
   ]
  },
  {
   "cell_type": "markdown",
   "id": "ddd93e1b",
   "metadata": {},
   "source": [
    "## Описание данных"
   ]
  },
  {
   "cell_type": "markdown",
   "id": "adfe2851",
   "metadata": {},
   "source": [
    "Для приоритизации гипотез дана информация, в котором есть:\n",
    "\n",
    "- краткое описание гипотезы;\n",
    "- охват пользователей по 10-балльной шкале;\n",
    "- влияние на пользователей по 10-балльной шкале;\n",
    "- уверенность в гипотезе по 10-балльной шкале;\n",
    "- затраты ресурсов на проверку гипотезы по 10-балльной шкале. Чем больше значение Efforts, тем дороже проверка гипотезы."
   ]
  },
  {
   "cell_type": "markdown",
   "id": "14368ae3",
   "metadata": {},
   "source": [
    "Для анализа А/В-теста даны два файла:\n",
    "\n",
    "1-ый, в котором есть информация о:\n",
    "\n",
    "- идентификаторе заказа;\n",
    "- идентификаторе пользователя, совершившего заказ;\n",
    "- дате, когда был совершён заказ;\n",
    "- выручке заказа;\n",
    "- группе A/B-теста, в которую попал заказ.\n",
    "\n",
    "2-ой, в котором присутствует:\n",
    "\n",
    "- дата;\n",
    "- группа A/B-теста;\n",
    "- количество пользователей в указанную дату в указанной группе A/B-теста."
   ]
  },
  {
   "cell_type": "markdown",
   "id": "9bc60906",
   "metadata": {},
   "source": [
    "## Изучение общей информации "
   ]
  },
  {
   "cell_type": "code",
   "execution_count": 1,
   "id": "2b0b385f",
   "metadata": {},
   "outputs": [],
   "source": [
    "# импортирую необходимые бибилотеки для проведения исследования\n",
    "from scipy import stats as st\n",
    "import pandas as pd\n",
    "import numpy as np\n",
    "import datetime as dt\n",
    "import matplotlib.pyplot as plt"
   ]
  },
  {
   "cell_type": "code",
   "execution_count": 2,
   "id": "6817f0e5",
   "metadata": {},
   "outputs": [],
   "source": [
    "# считываю файлы /datasets/hypothesis.csv, /datasets/orders.csv и  /datasets/visitors.csv\n",
    "# и сохраняю в переменные hypothesis, orders и visitors соответственно.\n",
    "try:\n",
    "    hypothesis = pd.read_csv('C:/Users/USER/Desktop/Исходники/Принятие решений в бизнесе/hypothesis.csv')\n",
    "    orders = pd.read_csv ('C:/Users/USER/Desktop/Исходники/Принятие решений в бизнесе/orders.csv')\n",
    "    visitors = pd.read_csv('C:/Users/USER/Desktop/Исходники/Принятие решений в бизнесе/visitors.csv')\n",
    "except:\n",
    "    print('FileNotFoundError')"
   ]
  },
  {
   "cell_type": "code",
   "execution_count": 3,
   "id": "10439402",
   "metadata": {},
   "outputs": [
    {
     "data": {
      "text/html": [
       "<div>\n",
       "<style scoped>\n",
       "    .dataframe tbody tr th:only-of-type {\n",
       "        vertical-align: middle;\n",
       "    }\n",
       "\n",
       "    .dataframe tbody tr th {\n",
       "        vertical-align: top;\n",
       "    }\n",
       "\n",
       "    .dataframe thead th {\n",
       "        text-align: right;\n",
       "    }\n",
       "</style>\n",
       "<table border=\"1\" class=\"dataframe\">\n",
       "  <thead>\n",
       "    <tr style=\"text-align: right;\">\n",
       "      <th></th>\n",
       "      <th>Hypothesis</th>\n",
       "      <th>Reach</th>\n",
       "      <th>Impact</th>\n",
       "      <th>Confidence</th>\n",
       "      <th>Efforts</th>\n",
       "    </tr>\n",
       "  </thead>\n",
       "  <tbody>\n",
       "    <tr>\n",
       "      <th>0</th>\n",
       "      <td>Добавить два новых канала привлечения трафика, что позволит привлекать на 30% больше пользователей</td>\n",
       "      <td>3</td>\n",
       "      <td>10</td>\n",
       "      <td>8</td>\n",
       "      <td>6</td>\n",
       "    </tr>\n",
       "    <tr>\n",
       "      <th>1</th>\n",
       "      <td>Запустить собственную службу доставки, что сократит срок доставки заказов</td>\n",
       "      <td>2</td>\n",
       "      <td>5</td>\n",
       "      <td>4</td>\n",
       "      <td>10</td>\n",
       "    </tr>\n",
       "    <tr>\n",
       "      <th>2</th>\n",
       "      <td>Добавить блоки рекомендаций товаров на сайт интернет магазина, чтобы повысить конверсию и средний чек заказа</td>\n",
       "      <td>8</td>\n",
       "      <td>3</td>\n",
       "      <td>7</td>\n",
       "      <td>3</td>\n",
       "    </tr>\n",
       "    <tr>\n",
       "      <th>3</th>\n",
       "      <td>Изменить структура категорий, что увеличит конверсию, т.к. пользователи быстрее найдут нужный товар</td>\n",
       "      <td>8</td>\n",
       "      <td>3</td>\n",
       "      <td>3</td>\n",
       "      <td>8</td>\n",
       "    </tr>\n",
       "    <tr>\n",
       "      <th>4</th>\n",
       "      <td>Изменить цвет фона главной страницы, чтобы увеличить вовлеченность пользователей</td>\n",
       "      <td>3</td>\n",
       "      <td>1</td>\n",
       "      <td>1</td>\n",
       "      <td>1</td>\n",
       "    </tr>\n",
       "    <tr>\n",
       "      <th>5</th>\n",
       "      <td>Добавить страницу отзывов клиентов о магазине, что позволит увеличить количество заказов</td>\n",
       "      <td>3</td>\n",
       "      <td>2</td>\n",
       "      <td>2</td>\n",
       "      <td>3</td>\n",
       "    </tr>\n",
       "    <tr>\n",
       "      <th>6</th>\n",
       "      <td>Показать на главной странице баннеры с актуальными акциями и распродажами, чтобы увеличить конверсию</td>\n",
       "      <td>5</td>\n",
       "      <td>3</td>\n",
       "      <td>8</td>\n",
       "      <td>3</td>\n",
       "    </tr>\n",
       "    <tr>\n",
       "      <th>7</th>\n",
       "      <td>Добавить форму подписки на все основные страницы, чтобы собрать базу клиентов для email-рассылок</td>\n",
       "      <td>10</td>\n",
       "      <td>7</td>\n",
       "      <td>8</td>\n",
       "      <td>5</td>\n",
       "    </tr>\n",
       "    <tr>\n",
       "      <th>8</th>\n",
       "      <td>Запустить акцию, дающую скидку на товар в день рождения</td>\n",
       "      <td>1</td>\n",
       "      <td>9</td>\n",
       "      <td>9</td>\n",
       "      <td>5</td>\n",
       "    </tr>\n",
       "  </tbody>\n",
       "</table>\n",
       "</div>"
      ],
      "text/plain": [
       "                                                                                                     Hypothesis  \\\n",
       "0            Добавить два новых канала привлечения трафика, что позволит привлекать на 30% больше пользователей   \n",
       "1                                     Запустить собственную службу доставки, что сократит срок доставки заказов   \n",
       "2  Добавить блоки рекомендаций товаров на сайт интернет магазина, чтобы повысить конверсию и средний чек заказа   \n",
       "3           Изменить структура категорий, что увеличит конверсию, т.к. пользователи быстрее найдут нужный товар   \n",
       "4                              Изменить цвет фона главной страницы, чтобы увеличить вовлеченность пользователей   \n",
       "5                      Добавить страницу отзывов клиентов о магазине, что позволит увеличить количество заказов   \n",
       "6          Показать на главной странице баннеры с актуальными акциями и распродажами, чтобы увеличить конверсию   \n",
       "7              Добавить форму подписки на все основные страницы, чтобы собрать базу клиентов для email-рассылок   \n",
       "8                                                       Запустить акцию, дающую скидку на товар в день рождения   \n",
       "\n",
       "   Reach  Impact  Confidence  Efforts  \n",
       "0      3      10           8        6  \n",
       "1      2       5           4       10  \n",
       "2      8       3           7        3  \n",
       "3      8       3           3        8  \n",
       "4      3       1           1        1  \n",
       "5      3       2           2        3  \n",
       "6      5       3           8        3  \n",
       "7     10       7           8        5  \n",
       "8      1       9           9        5  "
      ]
     },
     "execution_count": 3,
     "metadata": {},
     "output_type": "execute_result"
    }
   ],
   "source": [
    "pd.options.display.max_colwidth = 130 # расширяю вывод содержимого ячеек\n",
    "\n",
    "# открываю первые 10 строк датасета hypothesis\n",
    "hypothesis.head(10)"
   ]
  },
  {
   "cell_type": "code",
   "execution_count": 4,
   "id": "9b103b09",
   "metadata": {},
   "outputs": [
    {
     "name": "stdout",
     "output_type": "stream",
     "text": [
      "<class 'pandas.core.frame.DataFrame'>\n",
      "RangeIndex: 9 entries, 0 to 8\n",
      "Data columns (total 5 columns):\n",
      " #   Column      Non-Null Count  Dtype \n",
      "---  ------      --------------  ----- \n",
      " 0   Hypothesis  9 non-null      object\n",
      " 1   Reach       9 non-null      int64 \n",
      " 2   Impact      9 non-null      int64 \n",
      " 3   Confidence  9 non-null      int64 \n",
      " 4   Efforts     9 non-null      int64 \n",
      "dtypes: int64(4), object(1)\n",
      "memory usage: 488.0+ bytes\n"
     ]
    }
   ],
   "source": [
    "# вывожу общую информацию для датасета hypothesis\n",
    "hypothesis.info()"
   ]
  },
  {
   "cell_type": "markdown",
   "id": "b5a6972b",
   "metadata": {},
   "source": [
    "**Выводы**\n",
    "\n",
    "1. Датасет состоит из 5 столбцов и 9 строк. В строках указаны названия гипотез.\n",
    "2. Пропусков нет.\n",
    "3. Надо привести названия столбцов в нижний регистр."
   ]
  },
  {
   "cell_type": "code",
   "execution_count": 5,
   "id": "9679798e",
   "metadata": {},
   "outputs": [
    {
     "data": {
      "text/html": [
       "<div>\n",
       "<style scoped>\n",
       "    .dataframe tbody tr th:only-of-type {\n",
       "        vertical-align: middle;\n",
       "    }\n",
       "\n",
       "    .dataframe tbody tr th {\n",
       "        vertical-align: top;\n",
       "    }\n",
       "\n",
       "    .dataframe thead th {\n",
       "        text-align: right;\n",
       "    }\n",
       "</style>\n",
       "<table border=\"1\" class=\"dataframe\">\n",
       "  <thead>\n",
       "    <tr style=\"text-align: right;\">\n",
       "      <th></th>\n",
       "      <th>transactionId</th>\n",
       "      <th>visitorId</th>\n",
       "      <th>date</th>\n",
       "      <th>revenue</th>\n",
       "      <th>group</th>\n",
       "    </tr>\n",
       "  </thead>\n",
       "  <tbody>\n",
       "    <tr>\n",
       "      <th>0</th>\n",
       "      <td>3667963787</td>\n",
       "      <td>3312258926</td>\n",
       "      <td>2019-08-15</td>\n",
       "      <td>1650</td>\n",
       "      <td>B</td>\n",
       "    </tr>\n",
       "    <tr>\n",
       "      <th>1</th>\n",
       "      <td>2804400009</td>\n",
       "      <td>3642806036</td>\n",
       "      <td>2019-08-15</td>\n",
       "      <td>730</td>\n",
       "      <td>B</td>\n",
       "    </tr>\n",
       "    <tr>\n",
       "      <th>2</th>\n",
       "      <td>2961555356</td>\n",
       "      <td>4069496402</td>\n",
       "      <td>2019-08-15</td>\n",
       "      <td>400</td>\n",
       "      <td>A</td>\n",
       "    </tr>\n",
       "    <tr>\n",
       "      <th>3</th>\n",
       "      <td>3797467345</td>\n",
       "      <td>1196621759</td>\n",
       "      <td>2019-08-15</td>\n",
       "      <td>9759</td>\n",
       "      <td>B</td>\n",
       "    </tr>\n",
       "    <tr>\n",
       "      <th>4</th>\n",
       "      <td>2282983706</td>\n",
       "      <td>2322279887</td>\n",
       "      <td>2019-08-15</td>\n",
       "      <td>2308</td>\n",
       "      <td>B</td>\n",
       "    </tr>\n",
       "    <tr>\n",
       "      <th>5</th>\n",
       "      <td>182168103</td>\n",
       "      <td>935554773</td>\n",
       "      <td>2019-08-15</td>\n",
       "      <td>2210</td>\n",
       "      <td>B</td>\n",
       "    </tr>\n",
       "    <tr>\n",
       "      <th>6</th>\n",
       "      <td>398296753</td>\n",
       "      <td>2900797465</td>\n",
       "      <td>2019-08-15</td>\n",
       "      <td>1860</td>\n",
       "      <td>B</td>\n",
       "    </tr>\n",
       "    <tr>\n",
       "      <th>7</th>\n",
       "      <td>2626614568</td>\n",
       "      <td>78758296</td>\n",
       "      <td>2019-08-15</td>\n",
       "      <td>1044</td>\n",
       "      <td>A</td>\n",
       "    </tr>\n",
       "    <tr>\n",
       "      <th>8</th>\n",
       "      <td>1576988021</td>\n",
       "      <td>295230930</td>\n",
       "      <td>2019-08-15</td>\n",
       "      <td>13710</td>\n",
       "      <td>A</td>\n",
       "    </tr>\n",
       "    <tr>\n",
       "      <th>9</th>\n",
       "      <td>1506739906</td>\n",
       "      <td>1882260405</td>\n",
       "      <td>2019-08-15</td>\n",
       "      <td>1855</td>\n",
       "      <td>B</td>\n",
       "    </tr>\n",
       "  </tbody>\n",
       "</table>\n",
       "</div>"
      ],
      "text/plain": [
       "   transactionId   visitorId        date  revenue group\n",
       "0     3667963787  3312258926  2019-08-15     1650     B\n",
       "1     2804400009  3642806036  2019-08-15      730     B\n",
       "2     2961555356  4069496402  2019-08-15      400     A\n",
       "3     3797467345  1196621759  2019-08-15     9759     B\n",
       "4     2282983706  2322279887  2019-08-15     2308     B\n",
       "5      182168103   935554773  2019-08-15     2210     B\n",
       "6      398296753  2900797465  2019-08-15     1860     B\n",
       "7     2626614568    78758296  2019-08-15     1044     A\n",
       "8     1576988021   295230930  2019-08-15    13710     A\n",
       "9     1506739906  1882260405  2019-08-15     1855     B"
      ]
     },
     "execution_count": 5,
     "metadata": {},
     "output_type": "execute_result"
    }
   ],
   "source": [
    "# открываю первые 10 строк датасета orders\n",
    "orders.head(10)"
   ]
  },
  {
   "cell_type": "code",
   "execution_count": 6,
   "id": "4432523a",
   "metadata": {},
   "outputs": [
    {
     "name": "stdout",
     "output_type": "stream",
     "text": [
      "<class 'pandas.core.frame.DataFrame'>\n",
      "RangeIndex: 1197 entries, 0 to 1196\n",
      "Data columns (total 5 columns):\n",
      " #   Column         Non-Null Count  Dtype \n",
      "---  ------         --------------  ----- \n",
      " 0   transactionId  1197 non-null   int64 \n",
      " 1   visitorId      1197 non-null   int64 \n",
      " 2   date           1197 non-null   object\n",
      " 3   revenue        1197 non-null   int64 \n",
      " 4   group          1197 non-null   object\n",
      "dtypes: int64(3), object(2)\n",
      "memory usage: 46.9+ KB\n"
     ]
    }
   ],
   "source": [
    "# вывожу общую информацию для датасета orders\n",
    "orders.info()"
   ]
  },
  {
   "cell_type": "markdown",
   "id": "23aede1d",
   "metadata": {},
   "source": [
    "**Выводы**\n",
    "\n",
    "1. Датасет содержит 5 столбцов и 1197 срок.\n",
    "2. Пропусков нет.\n",
    "3. Названия столбцов в приемлемом виде.\n",
    "4. Необходимо преобразовать данные столбца date в тип datetime."
   ]
  },
  {
   "cell_type": "code",
   "execution_count": 7,
   "id": "db7f8f3f",
   "metadata": {},
   "outputs": [
    {
     "data": {
      "text/html": [
       "<div>\n",
       "<style scoped>\n",
       "    .dataframe tbody tr th:only-of-type {\n",
       "        vertical-align: middle;\n",
       "    }\n",
       "\n",
       "    .dataframe tbody tr th {\n",
       "        vertical-align: top;\n",
       "    }\n",
       "\n",
       "    .dataframe thead th {\n",
       "        text-align: right;\n",
       "    }\n",
       "</style>\n",
       "<table border=\"1\" class=\"dataframe\">\n",
       "  <thead>\n",
       "    <tr style=\"text-align: right;\">\n",
       "      <th></th>\n",
       "      <th>date</th>\n",
       "      <th>group</th>\n",
       "      <th>visitors</th>\n",
       "    </tr>\n",
       "  </thead>\n",
       "  <tbody>\n",
       "    <tr>\n",
       "      <th>0</th>\n",
       "      <td>2019-08-01</td>\n",
       "      <td>A</td>\n",
       "      <td>719</td>\n",
       "    </tr>\n",
       "    <tr>\n",
       "      <th>1</th>\n",
       "      <td>2019-08-02</td>\n",
       "      <td>A</td>\n",
       "      <td>619</td>\n",
       "    </tr>\n",
       "    <tr>\n",
       "      <th>2</th>\n",
       "      <td>2019-08-03</td>\n",
       "      <td>A</td>\n",
       "      <td>507</td>\n",
       "    </tr>\n",
       "    <tr>\n",
       "      <th>3</th>\n",
       "      <td>2019-08-04</td>\n",
       "      <td>A</td>\n",
       "      <td>717</td>\n",
       "    </tr>\n",
       "    <tr>\n",
       "      <th>4</th>\n",
       "      <td>2019-08-05</td>\n",
       "      <td>A</td>\n",
       "      <td>756</td>\n",
       "    </tr>\n",
       "    <tr>\n",
       "      <th>5</th>\n",
       "      <td>2019-08-06</td>\n",
       "      <td>A</td>\n",
       "      <td>667</td>\n",
       "    </tr>\n",
       "    <tr>\n",
       "      <th>6</th>\n",
       "      <td>2019-08-07</td>\n",
       "      <td>A</td>\n",
       "      <td>644</td>\n",
       "    </tr>\n",
       "    <tr>\n",
       "      <th>7</th>\n",
       "      <td>2019-08-08</td>\n",
       "      <td>A</td>\n",
       "      <td>610</td>\n",
       "    </tr>\n",
       "    <tr>\n",
       "      <th>8</th>\n",
       "      <td>2019-08-09</td>\n",
       "      <td>A</td>\n",
       "      <td>617</td>\n",
       "    </tr>\n",
       "    <tr>\n",
       "      <th>9</th>\n",
       "      <td>2019-08-10</td>\n",
       "      <td>A</td>\n",
       "      <td>406</td>\n",
       "    </tr>\n",
       "  </tbody>\n",
       "</table>\n",
       "</div>"
      ],
      "text/plain": [
       "         date group  visitors\n",
       "0  2019-08-01     A       719\n",
       "1  2019-08-02     A       619\n",
       "2  2019-08-03     A       507\n",
       "3  2019-08-04     A       717\n",
       "4  2019-08-05     A       756\n",
       "5  2019-08-06     A       667\n",
       "6  2019-08-07     A       644\n",
       "7  2019-08-08     A       610\n",
       "8  2019-08-09     A       617\n",
       "9  2019-08-10     A       406"
      ]
     },
     "execution_count": 7,
     "metadata": {},
     "output_type": "execute_result"
    }
   ],
   "source": [
    "# открываю первые пять строк датасета visitors\n",
    "visitors.head(10)"
   ]
  },
  {
   "cell_type": "code",
   "execution_count": 8,
   "id": "a0364694",
   "metadata": {},
   "outputs": [
    {
     "name": "stdout",
     "output_type": "stream",
     "text": [
      "<class 'pandas.core.frame.DataFrame'>\n",
      "RangeIndex: 62 entries, 0 to 61\n",
      "Data columns (total 3 columns):\n",
      " #   Column    Non-Null Count  Dtype \n",
      "---  ------    --------------  ----- \n",
      " 0   date      62 non-null     object\n",
      " 1   group     62 non-null     object\n",
      " 2   visitors  62 non-null     int64 \n",
      "dtypes: int64(1), object(2)\n",
      "memory usage: 1.6+ KB\n"
     ]
    }
   ],
   "source": [
    "# вывожу общую информацию для датасета visitors\n",
    "visitors.info()"
   ]
  },
  {
   "cell_type": "markdown",
   "id": "73aa61e0",
   "metadata": {},
   "source": [
    "**Выводы**\n",
    "\n",
    "1. Датафрейм состоит из 3 столбцов и 62 строк.\n",
    "2. Пропусков нет.\n",
    "3. Названия столбцов в надлежащем виде.\n",
    "4. Необходимо преобразовать данные столбца date в тип datetime."
   ]
  },
  {
   "cell_type": "markdown",
   "id": "a1960a92",
   "metadata": {},
   "source": [
    "**Общий вывод по 1 пункту**\n",
    "\n",
    "1. Перевести названия столбцов в датасете hypothesis в нижний регистр.\n",
    "2. Необходимо преобразовать данные столбца date в тип datetime в датафреймах visitors и orders."
   ]
  },
  {
   "cell_type": "markdown",
   "id": "0c6ccac7",
   "metadata": {},
   "source": [
    "## Предобрабока данных"
   ]
  },
  {
   "cell_type": "markdown",
   "id": "77db2bc1",
   "metadata": {},
   "source": [
    "### Приведение названий столбцов фрейма hypothesis и orders в соответствие с хорошим стилем"
   ]
  },
  {
   "cell_type": "code",
   "execution_count": 9,
   "id": "98254d35",
   "metadata": {},
   "outputs": [],
   "source": [
    "hypothesis.rename(columns=str.lower, inplace=True)\n",
    "orders.columns = ['transaction_id', 'visitor_id', 'date', 'revenue', 'group']"
   ]
  },
  {
   "cell_type": "markdown",
   "id": "0f408de7",
   "metadata": {},
   "source": [
    "### Преобразование данных столбцов в тип datetime"
   ]
  },
  {
   "cell_type": "code",
   "execution_count": 10,
   "id": "78d5a2a5",
   "metadata": {},
   "outputs": [],
   "source": [
    "# # преобразование данных в столбцах date в тип datetime в датасетах orders и visitors\n",
    "orders['date'] = pd.to_datetime(orders['date'])\n",
    "visitors['date'] = pd.to_datetime(visitors['date'])"
   ]
  },
  {
   "cell_type": "markdown",
   "id": "a680193e",
   "metadata": {},
   "source": [
    "### Проверка на явные дубликаты в датасетах"
   ]
  },
  {
   "cell_type": "code",
   "execution_count": 11,
   "id": "49b6bee8",
   "metadata": {},
   "outputs": [
    {
     "data": {
      "text/plain": [
       "0"
      ]
     },
     "execution_count": 11,
     "metadata": {},
     "output_type": "execute_result"
    }
   ],
   "source": [
    "hypothesis.duplicated().sum()"
   ]
  },
  {
   "cell_type": "code",
   "execution_count": 12,
   "id": "6278928f",
   "metadata": {},
   "outputs": [
    {
     "data": {
      "text/plain": [
       "0"
      ]
     },
     "execution_count": 12,
     "metadata": {},
     "output_type": "execute_result"
    }
   ],
   "source": [
    "orders.duplicated().sum()"
   ]
  },
  {
   "cell_type": "code",
   "execution_count": 13,
   "id": "e4284328",
   "metadata": {},
   "outputs": [
    {
     "data": {
      "text/plain": [
       "0"
      ]
     },
     "execution_count": 13,
     "metadata": {},
     "output_type": "execute_result"
    }
   ],
   "source": [
    "visitors.duplicated().sum()"
   ]
  },
  {
   "cell_type": "markdown",
   "id": "b846113d",
   "metadata": {},
   "source": [
    "### Проверка на неявные дубликаты"
   ]
  },
  {
   "cell_type": "markdown",
   "id": "dc6e04d4",
   "metadata": {},
   "source": [
    "Для этого вывожу уникальные значения в стобцах с текстовыми значениями у всех датасетов"
   ]
  },
  {
   "cell_type": "code",
   "execution_count": 14,
   "id": "c26adc17",
   "metadata": {},
   "outputs": [
    {
     "data": {
      "text/plain": [
       "array(['Добавить два новых канала привлечения трафика, что позволит привлекать на 30% больше пользователей',\n",
       "       'Запустить собственную службу доставки, что сократит срок доставки заказов',\n",
       "       'Добавить блоки рекомендаций товаров на сайт интернет магазина, чтобы повысить конверсию и средний чек заказа',\n",
       "       'Изменить структура категорий, что увеличит конверсию, т.к. пользователи быстрее найдут нужный товар',\n",
       "       'Изменить цвет фона главной страницы, чтобы увеличить вовлеченность пользователей',\n",
       "       'Добавить страницу отзывов клиентов о магазине, что позволит увеличить количество заказов',\n",
       "       'Показать на главной странице баннеры с актуальными акциями и распродажами, чтобы увеличить конверсию',\n",
       "       'Добавить форму подписки на все основные страницы, чтобы собрать базу клиентов для email-рассылок',\n",
       "       'Запустить акцию, дающую скидку на товар в день рождения'],\n",
       "      dtype=object)"
      ]
     },
     "execution_count": 14,
     "metadata": {},
     "output_type": "execute_result"
    }
   ],
   "source": [
    "# датасет hypothesis\n",
    "hypothesis['hypothesis'].unique()"
   ]
  },
  {
   "cell_type": "code",
   "execution_count": 15,
   "id": "2194c551",
   "metadata": {},
   "outputs": [
    {
     "data": {
      "text/plain": [
       "array(['B', 'A'], dtype=object)"
      ]
     },
     "execution_count": 15,
     "metadata": {},
     "output_type": "execute_result"
    }
   ],
   "source": [
    "# датасет orders\n",
    "orders['group'].unique()"
   ]
  },
  {
   "cell_type": "code",
   "execution_count": 16,
   "id": "22340c44",
   "metadata": {},
   "outputs": [
    {
     "data": {
      "text/plain": [
       "array(['A', 'B'], dtype=object)"
      ]
     },
     "execution_count": 16,
     "metadata": {},
     "output_type": "execute_result"
    }
   ],
   "source": [
    "# датасет visitors\n",
    "visitors['group'].unique()"
   ]
  },
  {
   "cell_type": "markdown",
   "id": "e2a8c671",
   "metadata": {},
   "source": [
    "### Проверка на явные аномалии"
   ]
  },
  {
   "cell_type": "markdown",
   "id": "a5d4b548",
   "metadata": {},
   "source": [
    "В данном случае явные аномалии - это отрицательные значения в столбцих: выручка (стобец revenue в датасете orders) и количество пользователей (столбец visitors в датасете visitors)."
   ]
  },
  {
   "cell_type": "code",
   "execution_count": 17,
   "id": "18eb30a1",
   "metadata": {},
   "outputs": [
    {
     "data": {
      "text/plain": [
       "0"
      ]
     },
     "execution_count": 17,
     "metadata": {},
     "output_type": "execute_result"
    }
   ],
   "source": [
    "len(orders[orders['revenue'] < 0])"
   ]
  },
  {
   "cell_type": "code",
   "execution_count": 18,
   "id": "ceabd9b1",
   "metadata": {},
   "outputs": [
    {
     "data": {
      "text/plain": [
       "0"
      ]
     },
     "execution_count": 18,
     "metadata": {},
     "output_type": "execute_result"
    }
   ],
   "source": [
    "len(visitors[visitors['visitors'] < 0])"
   ]
  },
  {
   "cell_type": "markdown",
   "id": "3bcddbb1",
   "metadata": {},
   "source": [
    "### Определение дат начала и конца теста"
   ]
  },
  {
   "cell_type": "code",
   "execution_count": 19,
   "id": "4ae83d88",
   "metadata": {},
   "outputs": [
    {
     "data": {
      "text/plain": [
       "min   2019-08-01\n",
       "max   2019-08-31\n",
       "Name: date, dtype: datetime64[ns]"
      ]
     },
     "execution_count": 19,
     "metadata": {},
     "output_type": "execute_result"
    }
   ],
   "source": [
    "# датафрейм orders\n",
    "orders['date'].agg(['min', 'max'])"
   ]
  },
  {
   "cell_type": "code",
   "execution_count": 20,
   "id": "a61c60fe",
   "metadata": {},
   "outputs": [
    {
     "data": {
      "text/plain": [
       "min   2019-08-01\n",
       "max   2019-08-31\n",
       "Name: date, dtype: datetime64[ns]"
      ]
     },
     "execution_count": 20,
     "metadata": {},
     "output_type": "execute_result"
    }
   ],
   "source": [
    "# датафрейм visitors\n",
    "visitors['date'].agg(['min', 'max'])"
   ]
  },
  {
   "cell_type": "markdown",
   "id": "f374a790",
   "metadata": {},
   "source": [
    "Дата начала и конца теста совпадают в обоих датафреймах."
   ]
  },
  {
   "cell_type": "markdown",
   "id": "7a883ca8",
   "metadata": {},
   "source": [
    "### Проверка на совпадение пользователей в группах - по таблице с заказами"
   ]
  },
  {
   "cell_type": "code",
   "execution_count": 21,
   "id": "744479f0",
   "metadata": {},
   "outputs": [
    {
     "data": {
      "text/plain": [
       "58"
      ]
     },
     "execution_count": 21,
     "metadata": {},
     "output_type": "execute_result"
    }
   ],
   "source": [
    "# выявляю id пользователей, попавших в обе группы\n",
    "user_dubl = (orders\n",
    "             .groupby('visitor_id')\n",
    "             .agg({'group' : 'nunique'})\n",
    "             .query('group>1')\n",
    "             .drop(columns=['group'])             \n",
    "            )\n",
    "len(user_dubl)"
   ]
  },
  {
   "cell_type": "markdown",
   "id": "899ab246",
   "metadata": {},
   "source": [
    "В обе группы попали 58 пользователей. Пользователей, попавших в две группы надо удалить."
   ]
  },
  {
   "cell_type": "code",
   "execution_count": 22,
   "id": "8c2871ab",
   "metadata": {},
   "outputs": [],
   "source": [
    "# удаляю пользоватлей, попавших в обе группы\n",
    "orders = orders.query('visitor_id not in @user_dubl.index').reset_index()"
   ]
  },
  {
   "cell_type": "markdown",
   "id": "15837ba4",
   "metadata": {},
   "source": [
    "### Определяю количество пользователей в каждой группе - по таблице с заказами"
   ]
  },
  {
   "cell_type": "code",
   "execution_count": 23,
   "id": "527d35e6",
   "metadata": {
    "scrolled": true
   },
   "outputs": [
    {
     "data": {
      "text/plain": [
       "group\n",
       "A    445\n",
       "B    528\n",
       "Name: visitor_id, dtype: int64"
      ]
     },
     "execution_count": 23,
     "metadata": {},
     "output_type": "execute_result"
    }
   ],
   "source": [
    "orders.groupby('group')['visitor_id'].nunique()"
   ]
  },
  {
   "cell_type": "markdown",
   "id": "ba425ccc",
   "metadata": {},
   "source": [
    "В группе \"А\" сделали покупки 445 уникальных пользователя. В \"В\" - 528."
   ]
  },
  {
   "cell_type": "markdown",
   "id": "b1c42627",
   "metadata": {},
   "source": [
    "### Динамика посетителей по дням по группам"
   ]
  },
  {
   "cell_type": "code",
   "execution_count": 24,
   "id": "cb21d6d6",
   "metadata": {},
   "outputs": [
    {
     "data": {
      "image/png": "[encoded data removed]",
      "text/plain": [
       "<Figure size 1500x1000 with 1 Axes>"
      ]
     },
     "metadata": {},
     "output_type": "display_data"
    }
   ],
   "source": [
    "visitors_a = visitors[visitors['group'] == 'A'].reset_index(drop= True)\n",
    "visitors_b = visitors[visitors['group'] == 'B'].reset_index(drop= True)\n",
    "plt.figure(figsize=(15, 10))\n",
    "# строю график кумулятивной выручки для группы А\n",
    "plt.plot(visitors_a['date'], visitors_a['visitors'], label='A')\n",
    "\n",
    "# строю график кумулятивной выручки для группы B\n",
    "plt.plot(visitors_b['date'], visitors_b['visitors'], label='B')\n",
    "plt.title('Динамика посетителей по дням', pad=30)\n",
    "plt.ylabel('Количество посетителей')\n",
    "plt.xlabel('Дата')\n",
    "plt.grid()\n",
    "plt.legend();"
   ]
  },
  {
   "cell_type": "markdown",
   "id": "cb411404",
   "metadata": {},
   "source": [
    "Количество пользователей по дням зачастую больше в группе \"В\". На графике видны резкие спады количества пользователей в одни и те же дни в обеих группах. Предполагаю, что это может быть связано с нестабильной работой сайта или с днем недели, так как если посмотреть на календарь 2019 года будет видно, что спады практически всегда были в конце рабочей недели."
   ]
  },
  {
   "cell_type": "markdown",
   "id": "c39a263a",
   "metadata": {},
   "source": [
    "### Выводы по 3 части\n",
    "\n",
    "1. Преобразованы данные столбцов date в тип datetime в датафреймах visitors и orders.\n",
    "2. Явные и неявные дубликаты в датасетах не обнаружены.\n",
    "3. Явные аномалии не обнаружены.\n",
    "4. Названия столбцов датафрейма hypothesis приведены в соответствие с хорошим стилем.\n",
    "5. Больше всего уникальных пользователей делали покупки в группе \"В\".\n",
    "6. 58 пользователей попали сразу в две группы.Таких пользователей удалил.\n",
    "7. Динамика пользователей по дням имеет резкие перепады у обеих групп в одни и те же дни.\n",
    "8. В группе \"А\" сделали покупки 445 уникальных пользователя. В \"В\" - 528."
   ]
  },
  {
   "cell_type": "markdown",
   "id": "df7af358",
   "metadata": {},
   "source": [
    "## Приоритизация гипотез"
   ]
  },
  {
   "cell_type": "markdown",
   "id": "47fa70b6",
   "metadata": {},
   "source": [
    "### Приоритизация гипотез с помощью фреймворка ICE"
   ]
  },
  {
   "cell_type": "code",
   "execution_count": 25,
   "id": "a4a894d3",
   "metadata": {},
   "outputs": [
    {
     "data": {
      "text/html": [
       "<div>\n",
       "<style scoped>\n",
       "    .dataframe tbody tr th:only-of-type {\n",
       "        vertical-align: middle;\n",
       "    }\n",
       "\n",
       "    .dataframe tbody tr th {\n",
       "        vertical-align: top;\n",
       "    }\n",
       "\n",
       "    .dataframe thead th {\n",
       "        text-align: right;\n",
       "    }\n",
       "</style>\n",
       "<table border=\"1\" class=\"dataframe\">\n",
       "  <thead>\n",
       "    <tr style=\"text-align: right;\">\n",
       "      <th></th>\n",
       "      <th>hypothesis</th>\n",
       "      <th>ICE</th>\n",
       "    </tr>\n",
       "  </thead>\n",
       "  <tbody>\n",
       "    <tr>\n",
       "      <th>8</th>\n",
       "      <td>Запустить акцию, дающую скидку на товар в день рождения</td>\n",
       "      <td>16.20</td>\n",
       "    </tr>\n",
       "    <tr>\n",
       "      <th>0</th>\n",
       "      <td>Добавить два новых канала привлечения трафика, что позволит привлекать на 30% больше пользователей</td>\n",
       "      <td>13.33</td>\n",
       "    </tr>\n",
       "    <tr>\n",
       "      <th>7</th>\n",
       "      <td>Добавить форму подписки на все основные страницы, чтобы собрать базу клиентов для email-рассылок</td>\n",
       "      <td>11.20</td>\n",
       "    </tr>\n",
       "    <tr>\n",
       "      <th>6</th>\n",
       "      <td>Показать на главной странице баннеры с актуальными акциями и распродажами, чтобы увеличить конверсию</td>\n",
       "      <td>8.00</td>\n",
       "    </tr>\n",
       "    <tr>\n",
       "      <th>2</th>\n",
       "      <td>Добавить блоки рекомендаций товаров на сайт интернет магазина, чтобы повысить конверсию и средний чек заказа</td>\n",
       "      <td>7.00</td>\n",
       "    </tr>\n",
       "    <tr>\n",
       "      <th>1</th>\n",
       "      <td>Запустить собственную службу доставки, что сократит срок доставки заказов</td>\n",
       "      <td>2.00</td>\n",
       "    </tr>\n",
       "    <tr>\n",
       "      <th>5</th>\n",
       "      <td>Добавить страницу отзывов клиентов о магазине, что позволит увеличить количество заказов</td>\n",
       "      <td>1.33</td>\n",
       "    </tr>\n",
       "    <tr>\n",
       "      <th>3</th>\n",
       "      <td>Изменить структура категорий, что увеличит конверсию, т.к. пользователи быстрее найдут нужный товар</td>\n",
       "      <td>1.12</td>\n",
       "    </tr>\n",
       "    <tr>\n",
       "      <th>4</th>\n",
       "      <td>Изменить цвет фона главной страницы, чтобы увеличить вовлеченность пользователей</td>\n",
       "      <td>1.00</td>\n",
       "    </tr>\n",
       "  </tbody>\n",
       "</table>\n",
       "</div>"
      ],
      "text/plain": [
       "                                                                                                     hypothesis  \\\n",
       "8                                                       Запустить акцию, дающую скидку на товар в день рождения   \n",
       "0            Добавить два новых канала привлечения трафика, что позволит привлекать на 30% больше пользователей   \n",
       "7              Добавить форму подписки на все основные страницы, чтобы собрать базу клиентов для email-рассылок   \n",
       "6          Показать на главной странице баннеры с актуальными акциями и распродажами, чтобы увеличить конверсию   \n",
       "2  Добавить блоки рекомендаций товаров на сайт интернет магазина, чтобы повысить конверсию и средний чек заказа   \n",
       "1                                     Запустить собственную службу доставки, что сократит срок доставки заказов   \n",
       "5                      Добавить страницу отзывов клиентов о магазине, что позволит увеличить количество заказов   \n",
       "3           Изменить структура категорий, что увеличит конверсию, т.к. пользователи быстрее найдут нужный товар   \n",
       "4                              Изменить цвет фона главной страницы, чтобы увеличить вовлеченность пользователей   \n",
       "\n",
       "     ICE  \n",
       "8  16.20  \n",
       "0  13.33  \n",
       "7  11.20  \n",
       "6   8.00  \n",
       "2   7.00  \n",
       "1   2.00  \n",
       "5   1.33  \n",
       "3   1.12  \n",
       "4   1.00  "
      ]
     },
     "execution_count": 25,
     "metadata": {},
     "output_type": "execute_result"
    }
   ],
   "source": [
    "hypothesis['ICE'] = (hypothesis['impact'] * hypothesis['confidence']) / hypothesis['efforts']\n",
    "round(hypothesis[['hypothesis', 'ICE']].sort_values(by='ICE', ascending=False), 2)"
   ]
  },
  {
   "cell_type": "markdown",
   "id": "2546c5ba",
   "metadata": {},
   "source": [
    "Наиболее перспективные гипотезы по ICE:  \n",
    "\n",
    "1. Запустить акцию, дающую скидку на товар в день рождения.\n",
    "2. Добавить два новых канала привлечения трафика, что позволит привлекать на 30% больше пользователей.\n",
    "3. Добавить форму подписки на все основные страницы, чтобы собрать базу клиентов для email-рассылок."
   ]
  },
  {
   "cell_type": "markdown",
   "id": "1264acc2",
   "metadata": {},
   "source": [
    "### Приоритизация гипотез с помощью фреймворка RICE"
   ]
  },
  {
   "cell_type": "code",
   "execution_count": 26,
   "id": "a764d7b8",
   "metadata": {},
   "outputs": [
    {
     "data": {
      "text/html": [
       "<div>\n",
       "<style scoped>\n",
       "    .dataframe tbody tr th:only-of-type {\n",
       "        vertical-align: middle;\n",
       "    }\n",
       "\n",
       "    .dataframe tbody tr th {\n",
       "        vertical-align: top;\n",
       "    }\n",
       "\n",
       "    .dataframe thead th {\n",
       "        text-align: right;\n",
       "    }\n",
       "</style>\n",
       "<table border=\"1\" class=\"dataframe\">\n",
       "  <thead>\n",
       "    <tr style=\"text-align: right;\">\n",
       "      <th></th>\n",
       "      <th>hypothesis</th>\n",
       "      <th>RICE</th>\n",
       "    </tr>\n",
       "  </thead>\n",
       "  <tbody>\n",
       "    <tr>\n",
       "      <th>7</th>\n",
       "      <td>Добавить форму подписки на все основные страницы, чтобы собрать базу клиентов для email-рассылок</td>\n",
       "      <td>112.0</td>\n",
       "    </tr>\n",
       "    <tr>\n",
       "      <th>2</th>\n",
       "      <td>Добавить блоки рекомендаций товаров на сайт интернет магазина, чтобы повысить конверсию и средний чек заказа</td>\n",
       "      <td>56.0</td>\n",
       "    </tr>\n",
       "    <tr>\n",
       "      <th>0</th>\n",
       "      <td>Добавить два новых канала привлечения трафика, что позволит привлекать на 30% больше пользователей</td>\n",
       "      <td>40.0</td>\n",
       "    </tr>\n",
       "    <tr>\n",
       "      <th>6</th>\n",
       "      <td>Показать на главной странице баннеры с актуальными акциями и распродажами, чтобы увеличить конверсию</td>\n",
       "      <td>40.0</td>\n",
       "    </tr>\n",
       "    <tr>\n",
       "      <th>8</th>\n",
       "      <td>Запустить акцию, дающую скидку на товар в день рождения</td>\n",
       "      <td>16.2</td>\n",
       "    </tr>\n",
       "    <tr>\n",
       "      <th>3</th>\n",
       "      <td>Изменить структура категорий, что увеличит конверсию, т.к. пользователи быстрее найдут нужный товар</td>\n",
       "      <td>9.0</td>\n",
       "    </tr>\n",
       "    <tr>\n",
       "      <th>1</th>\n",
       "      <td>Запустить собственную службу доставки, что сократит срок доставки заказов</td>\n",
       "      <td>4.0</td>\n",
       "    </tr>\n",
       "    <tr>\n",
       "      <th>5</th>\n",
       "      <td>Добавить страницу отзывов клиентов о магазине, что позволит увеличить количество заказов</td>\n",
       "      <td>4.0</td>\n",
       "    </tr>\n",
       "    <tr>\n",
       "      <th>4</th>\n",
       "      <td>Изменить цвет фона главной страницы, чтобы увеличить вовлеченность пользователей</td>\n",
       "      <td>3.0</td>\n",
       "    </tr>\n",
       "  </tbody>\n",
       "</table>\n",
       "</div>"
      ],
      "text/plain": [
       "                                                                                                     hypothesis  \\\n",
       "7              Добавить форму подписки на все основные страницы, чтобы собрать базу клиентов для email-рассылок   \n",
       "2  Добавить блоки рекомендаций товаров на сайт интернет магазина, чтобы повысить конверсию и средний чек заказа   \n",
       "0            Добавить два новых канала привлечения трафика, что позволит привлекать на 30% больше пользователей   \n",
       "6          Показать на главной странице баннеры с актуальными акциями и распродажами, чтобы увеличить конверсию   \n",
       "8                                                       Запустить акцию, дающую скидку на товар в день рождения   \n",
       "3           Изменить структура категорий, что увеличит конверсию, т.к. пользователи быстрее найдут нужный товар   \n",
       "1                                     Запустить собственную службу доставки, что сократит срок доставки заказов   \n",
       "5                      Добавить страницу отзывов клиентов о магазине, что позволит увеличить количество заказов   \n",
       "4                              Изменить цвет фона главной страницы, чтобы увеличить вовлеченность пользователей   \n",
       "\n",
       "    RICE  \n",
       "7  112.0  \n",
       "2   56.0  \n",
       "0   40.0  \n",
       "6   40.0  \n",
       "8   16.2  \n",
       "3    9.0  \n",
       "1    4.0  \n",
       "5    4.0  \n",
       "4    3.0  "
      ]
     },
     "execution_count": 26,
     "metadata": {},
     "output_type": "execute_result"
    }
   ],
   "source": [
    "hypothesis['RICE'] = (hypothesis['reach'] * hypothesis['impact'] * hypothesis['confidence']) / hypothesis['efforts']\n",
    "hypothesis[['hypothesis', 'RICE']].sort_values(by='RICE', ascending=False)"
   ]
  },
  {
   "cell_type": "markdown",
   "id": "abbb9e8f",
   "metadata": {},
   "source": [
    "Наиболее перспективные гипотезы по RICE:\n",
    "\n",
    "1. Добавить форму подписки на все основные страницы, чтобы собрать базу клиентов для email-рассылок.\n",
    "2. Добавить блоки рекомендаций товаров на сайт интернет магазина, чтобы повысить конверсию и средний чек заказа.\n",
    "3. Добавить два новых канала привлечения трафика, что позволит привлекать на 30% больше пользователей."
   ]
  },
  {
   "cell_type": "markdown",
   "id": "e490224d",
   "metadata": {},
   "source": [
    "### Вывод по части 4\n",
    "\n",
    "При применении RICE вместо ICE произошли изменения в приоритизации гипотез: \n",
    "\n",
    "- На первое место встала гипотеза \"Добавить форму подписки на все основные страницы, чтобы собрать базу клиентов для email-рассылок\", вместо гипотезы \"Запустить акцию, дающую скидку на товар в день рождения\", которая переместилась на 5-ое место.\n",
    "- Гипотезы \"Добавить блоки рекомендаций товаров на сайт интернет магазина, чтобы повысить конверсию и средний чек заказа\" и \"Добавить два новых канала привлечения трафика, что позволит привлекать на 30% больше пользователей\" поменялись местами и стали на 2-ом и 3-ем месте соответственно.\n",
    "\n",
    "Эти изменения обусловлены тем, что в фреймворке RICE учитывается параметр охват пользователей - reach. Этот параметр больше всех у гипотезы, вставшей на первом месте и равен 10, в то время как у других он меньше. Отсюда делаю вывод, что гипотеза \"Добавить форму подписки на все основные страницы, чтобы собрать базу клиентов для email-рассылок\" затронет больше всех пользователей и поэтому может принесть бизнесу больше денег."
   ]
  },
  {
   "cell_type": "markdown",
   "id": "afee7eb1",
   "metadata": {},
   "source": [
    "## Анализ A/B-теста"
   ]
  },
  {
   "cell_type": "markdown",
   "id": "0d6b1686",
   "metadata": {},
   "source": [
    "Для построения графиков, необходимо собрать комулятивные данные. Для этого создам новый датафрейм cumulative_data. В него войдут столбцы:\n",
    "- dt (дата);\n",
    "- group (группа теста);\n",
    "- orders (кумулятивное количество заказов на указанную дату в указанной группе);\n",
    "- buyers (кумулятивное количество пользователей, совершивших хотя бы один заказ, на указанную дату в указанной группе);\n",
    "- revenue (кумулятивная выручка на указанную дату в указанной группе (средний чек));\n",
    "- visitors (кумулятивное количество посетителей интернет-магазина на указанную дату в определённой группе);"
   ]
  },
  {
   "cell_type": "code",
   "execution_count": 27,
   "id": "693ad2a5",
   "metadata": {},
   "outputs": [],
   "source": [
    "# создаю массив уникальных пар значений дат и групп теста\n",
    "date_group = orders[['date','group']].drop_duplicates()"
   ]
  },
  {
   "cell_type": "code",
   "execution_count": 28,
   "id": "f4d5148b",
   "metadata": {},
   "outputs": [],
   "source": [
    "# получаю агрегированные кумулятивные по дням данные о заказах \n",
    "orders_aggregated = (\n",
    "    date_group\n",
    "    .apply(lambda x: orders[np.logical_and(orders['date'] <= x['date'], orders['group'] == x['group'])]\n",
    "           .agg({'date' : 'max', 'group' : 'max', 'transaction_id' : 'nunique', 'visitor_id' : 'nunique', 'revenue' : 'sum'}), axis=1)\n",
    "    .sort_values(by=['date','group'])\n",
    ")"
   ]
  },
  {
   "cell_type": "code",
   "execution_count": 29,
   "id": "f8ca085c",
   "metadata": {},
   "outputs": [],
   "source": [
    "# получаю агрегированные кумулятивные по дням данные о посетителях интернет-магазина \n",
    "visitors_aggregated = (\n",
    "    date_group\n",
    "    .apply(lambda x: visitors[np.logical_and(visitors['date'] <= x['date'], visitors['group'] == x['group'])]\n",
    "           .agg({'date' : 'max', 'group' : 'max', 'visitors' : 'sum'}), axis=1)\n",
    "    .sort_values(by=['date','group'])\n",
    ")"
   ]
  },
  {
   "cell_type": "code",
   "execution_count": 30,
   "id": "eee65cf3",
   "metadata": {},
   "outputs": [
    {
     "data": {
      "text/html": [
       "<div>\n",
       "<style scoped>\n",
       "    .dataframe tbody tr th:only-of-type {\n",
       "        vertical-align: middle;\n",
       "    }\n",
       "\n",
       "    .dataframe tbody tr th {\n",
       "        vertical-align: top;\n",
       "    }\n",
       "\n",
       "    .dataframe thead th {\n",
       "        text-align: right;\n",
       "    }\n",
       "</style>\n",
       "<table border=\"1\" class=\"dataframe\">\n",
       "  <thead>\n",
       "    <tr style=\"text-align: right;\">\n",
       "      <th></th>\n",
       "      <th>dt</th>\n",
       "      <th>group</th>\n",
       "      <th>orders</th>\n",
       "      <th>buyers</th>\n",
       "      <th>revenue</th>\n",
       "      <th>visitors</th>\n",
       "    </tr>\n",
       "  </thead>\n",
       "  <tbody>\n",
       "    <tr>\n",
       "      <th>0</th>\n",
       "      <td>2019-08-01</td>\n",
       "      <td>A</td>\n",
       "      <td>23</td>\n",
       "      <td>19</td>\n",
       "      <td>142779</td>\n",
       "      <td>719</td>\n",
       "    </tr>\n",
       "    <tr>\n",
       "      <th>1</th>\n",
       "      <td>2019-08-01</td>\n",
       "      <td>B</td>\n",
       "      <td>17</td>\n",
       "      <td>17</td>\n",
       "      <td>59758</td>\n",
       "      <td>713</td>\n",
       "    </tr>\n",
       "    <tr>\n",
       "      <th>2</th>\n",
       "      <td>2019-08-02</td>\n",
       "      <td>A</td>\n",
       "      <td>42</td>\n",
       "      <td>36</td>\n",
       "      <td>234381</td>\n",
       "      <td>1338</td>\n",
       "    </tr>\n",
       "    <tr>\n",
       "      <th>3</th>\n",
       "      <td>2019-08-02</td>\n",
       "      <td>B</td>\n",
       "      <td>40</td>\n",
       "      <td>39</td>\n",
       "      <td>221801</td>\n",
       "      <td>1294</td>\n",
       "    </tr>\n",
       "    <tr>\n",
       "      <th>4</th>\n",
       "      <td>2019-08-03</td>\n",
       "      <td>A</td>\n",
       "      <td>66</td>\n",
       "      <td>60</td>\n",
       "      <td>346854</td>\n",
       "      <td>1845</td>\n",
       "    </tr>\n",
       "    <tr>\n",
       "      <th>5</th>\n",
       "      <td>2019-08-03</td>\n",
       "      <td>B</td>\n",
       "      <td>54</td>\n",
       "      <td>53</td>\n",
       "      <td>288850</td>\n",
       "      <td>1803</td>\n",
       "    </tr>\n",
       "    <tr>\n",
       "      <th>6</th>\n",
       "      <td>2019-08-04</td>\n",
       "      <td>A</td>\n",
       "      <td>77</td>\n",
       "      <td>71</td>\n",
       "      <td>388030</td>\n",
       "      <td>2562</td>\n",
       "    </tr>\n",
       "    <tr>\n",
       "      <th>7</th>\n",
       "      <td>2019-08-04</td>\n",
       "      <td>B</td>\n",
       "      <td>68</td>\n",
       "      <td>66</td>\n",
       "      <td>385740</td>\n",
       "      <td>2573</td>\n",
       "    </tr>\n",
       "    <tr>\n",
       "      <th>8</th>\n",
       "      <td>2019-08-05</td>\n",
       "      <td>A</td>\n",
       "      <td>99</td>\n",
       "      <td>92</td>\n",
       "      <td>474413</td>\n",
       "      <td>3318</td>\n",
       "    </tr>\n",
       "    <tr>\n",
       "      <th>9</th>\n",
       "      <td>2019-08-05</td>\n",
       "      <td>B</td>\n",
       "      <td>89</td>\n",
       "      <td>87</td>\n",
       "      <td>475648</td>\n",
       "      <td>3280</td>\n",
       "    </tr>\n",
       "  </tbody>\n",
       "</table>\n",
       "</div>"
      ],
      "text/plain": [
       "          dt group  orders  buyers  revenue  visitors\n",
       "0 2019-08-01     A      23      19   142779       719\n",
       "1 2019-08-01     B      17      17    59758       713\n",
       "2 2019-08-02     A      42      36   234381      1338\n",
       "3 2019-08-02     B      40      39   221801      1294\n",
       "4 2019-08-03     A      66      60   346854      1845\n",
       "5 2019-08-03     B      54      53   288850      1803\n",
       "6 2019-08-04     A      77      71   388030      2562\n",
       "7 2019-08-04     B      68      66   385740      2573\n",
       "8 2019-08-05     A      99      92   474413      3318\n",
       "9 2019-08-05     B      89      87   475648      3280"
      ]
     },
     "execution_count": 30,
     "metadata": {},
     "output_type": "execute_result"
    }
   ],
   "source": [
    "# объединяю кумулятивные данные в одной таблице и присваиваю столбцам понятные названия\n",
    "cumulative_data = orders_aggregated.merge(visitors_aggregated, left_on=['date', 'group'], right_on=['date', 'group'])\n",
    "cumulative_data.columns = ['dt', 'group', 'orders', 'buyers', 'revenue', 'visitors']\n",
    "\n",
    "# вывожу на экран 10 строчек датафрейма\n",
    "cumulative_data.head(10)"
   ]
  },
  {
   "cell_type": "markdown",
   "id": "0fd924c6",
   "metadata": {},
   "source": [
    "Проверяю корректность создания датафрейма cumulative_data. Для этого выведу максимальную и минимальную даты и сравню с максимальными и минимальными датами исходных датафреймов."
   ]
  },
  {
   "cell_type": "code",
   "execution_count": 31,
   "id": "41c5e953",
   "metadata": {},
   "outputs": [
    {
     "data": {
      "text/plain": [
       "min   2019-08-01\n",
       "max   2019-08-31\n",
       "Name: dt, dtype: datetime64[ns]"
      ]
     },
     "execution_count": 31,
     "metadata": {},
     "output_type": "execute_result"
    }
   ],
   "source": [
    "cumulative_data['dt'].agg(['min', 'max'])"
   ]
  },
  {
   "cell_type": "markdown",
   "id": "ad301e36",
   "metadata": {},
   "source": [
    "Даты совпадают с исходными датафреймами."
   ]
  },
  {
   "cell_type": "markdown",
   "id": "efff9e41",
   "metadata": {},
   "source": [
    "### Построение графика кумулятивной выручки по группам"
   ]
  },
  {
   "cell_type": "code",
   "execution_count": 32,
   "id": "ad0859bc",
   "metadata": {
    "scrolled": true
   },
   "outputs": [],
   "source": [
    "# отбираю данные из датасета cumulative_data по дням в группе А и присваиваю его переменной cumulative_data_group_A\n",
    "cumulative_data_group_a = cumulative_data[cumulative_data['group'] == 'A'][['dt', 'revenue', 'orders']]"
   ]
  },
  {
   "cell_type": "code",
   "execution_count": 33,
   "id": "e0d7e86b",
   "metadata": {},
   "outputs": [],
   "source": [
    "# отбираю данные из датасета cumulative_data по дням в группе B и присваиваю его переменной cumulative_data_group_B\n",
    "cumulative_data_group_b = cumulative_data[cumulative_data['group'] == 'B'][['dt', 'revenue', 'orders']]"
   ]
  },
  {
   "cell_type": "code",
   "execution_count": 34,
   "id": "9b1240e0",
   "metadata": {
    "scrolled": false
   },
   "outputs": [
    {
     "data": {
      "image/png": "[encoded data removed]",
      "text/plain": [
       "<Figure size 1500x500 with 1 Axes>"
      ]
     },
     "metadata": {},
     "output_type": "display_data"
    }
   ],
   "source": [
    "plt.figure(figsize=(15, 5))\n",
    "# строю график кумулятивной выручки для группы А\n",
    "plt.plot(cumulative_data_group_a['dt'], cumulative_data_group_a['revenue'], label='A')\n",
    "\n",
    "# строю график кумулятивной выручки для группы B\n",
    "plt.plot(cumulative_data_group_b['dt'], cumulative_data_group_b['revenue'], label='B')\n",
    "plt.title('Гафик кумулятивной выручки по группам', pad=30)\n",
    "plt.xlabel('Дата')\n",
    "plt.ylabel('Выручка')\n",
    "plt.grid()\n",
    "plt.legend();"
   ]
  },
  {
   "cell_type": "markdown",
   "id": "93315856",
   "metadata": {},
   "source": [
    "**Вывод**\n",
    "\n",
    "Выручка растет на протяжении всего теста, что хорошо для бизнеса. Однако в нескольких местах есть заметные скачки роста, особенно это заметно на графике \"В\". Это может означать, что появились аномальные начения, например, резкий скачок числа покупателей или очень дорогие заказы в выборке."
   ]
  },
  {
   "cell_type": "markdown",
   "id": "eaf01210",
   "metadata": {},
   "source": [
    "### Построение графика кумулятивного среднего чека по группам"
   ]
  },
  {
   "cell_type": "code",
   "execution_count": 35,
   "id": "12966f23",
   "metadata": {},
   "outputs": [
    {
     "data": {
      "image/png": "[encoded data removed]",
      "text/plain": [
       "<Figure size 1500x500 with 1 Axes>"
      ]
     },
     "metadata": {},
     "output_type": "display_data"
    }
   ],
   "source": [
    "plt.figure(figsize=(15, 5))\n",
    "plt.plot(cumulative_data_group_a['dt'], cumulative_data_group_a['revenue']/cumulative_data_group_a['orders'], label='A')\n",
    "plt.plot(cumulative_data_group_b['dt'], cumulative_data_group_b['revenue']/cumulative_data_group_b['orders'], label='B')\n",
    "plt.title('Графика кумулятивного среднего чека по группам', pad=30)\n",
    "plt.xlabel('Дата')\n",
    "plt.ylabel('Средний чек')\n",
    "plt.grid()\n",
    "plt.legend();"
   ]
  },
  {
   "cell_type": "markdown",
   "id": "f9c0f576",
   "metadata": {},
   "source": [
    "**Вывод**\n",
    "\n",
    "1. В начале теста у группы \"А\" наблюдается падение среднего чека до 2019-08-06, возможно, пользователи покупали не очень дорогие товары или количество покупок снизилось. Далее средний чек стабильно увеличивался до 2019-08-13. Затем средний чек вышел на плато в районе 7000 и примерно остался на одном уровне до конца теста.\n",
    "2. У группы \"В\" в начале виден резкий рост, но затем до 2019-08-05 средний чек был примерно на одном уровне. Далее идет прирост, который сменяется небольшим падением до 2019-08-14. 2019-08-15 небольшой рост, а 2019-08-18 очень резкий скачек и затем плавное падение.\n",
    "3. Средний чек для группы \"В\" к концу теста не установился и продолжает падать. Возможно, всему виной резкий рост, который произошел 2019-08-18.\n",
    "4. Для группы \"В\" нужно больше данных, чтобы прийти к реальному среднему чеку и установиться на одном уровне."
   ]
  },
  {
   "cell_type": "markdown",
   "id": "9e39d424",
   "metadata": {},
   "source": [
    "### Построение графика относительного изменения кумулятивного среднего чека группы B к группе A"
   ]
  },
  {
   "cell_type": "code",
   "execution_count": 36,
   "id": "073ffc4d",
   "metadata": {},
   "outputs": [
    {
     "data": {
      "image/png": "[encoded data removed]",
      "text/plain": [
       "<Figure size 1500x500 with 1 Axes>"
      ]
     },
     "metadata": {},
     "output_type": "display_data"
    }
   ],
   "source": [
    "# объединяю данные в один датафрейм\n",
    "merged_cumulative_group = (\n",
    "    cumulative_data_group_a\n",
    "    .merge(cumulative_data_group_b, left_on='dt', right_on='dt', how='left', suffixes=['A', 'B'])\n",
    ")\n",
    "# cтрою отношение средних чеков\n",
    "plt.figure(figsize=(15, 5))\n",
    "plt.plot(merged_cumulative_group['dt'], \n",
    "         (merged_cumulative_group['revenueB']/merged_cumulative_group['ordersB'])/\n",
    "         (merged_cumulative_group['revenueA']/merged_cumulative_group['ordersA'])-1)\n",
    "\n",
    "# добавляю ось X\n",
    "plt.title('Относительное изменение кумулятивного среднего чека группы \"B\" к \"А\"', pad=30)\n",
    "plt.xlabel('Дата')\n",
    "plt.ylabel('Относительные единицы')\n",
    "plt.axhline(y=0, color='black', linestyle='--') \n",
    "plt.grid()"
   ]
  },
  {
   "cell_type": "markdown",
   "id": "a3d07afd",
   "metadata": {},
   "source": [
    "**Вывод**\n",
    "\n",
    "Видно, что график различия между сегментами резко скачет. А это значит, что в данных присутствуют выбросы."
   ]
  },
  {
   "cell_type": "markdown",
   "id": "0bd40641",
   "metadata": {},
   "source": [
    "### Построение графика кумулятивного среднего количества заказов на посетителя по группам"
   ]
  },
  {
   "cell_type": "code",
   "execution_count": 37,
   "id": "ee984cd8",
   "metadata": {},
   "outputs": [],
   "source": [
    "# считаю кумулятивную конверсию\n",
    "cumulative_data['conversion'] = cumulative_data['orders']/cumulative_data['visitors']\n",
    "\n",
    "# отделяю данные по группе A\n",
    "cumulative_data_a = cumulative_data[cumulative_data['group']=='A']\n",
    "\n",
    "# отделяю данные по группе B\n",
    "cumulative_data_b = cumulative_data[cumulative_data['group']=='B']\n"
   ]
  },
  {
   "cell_type": "code",
   "execution_count": 38,
   "id": "1b4f9d7b",
   "metadata": {},
   "outputs": [
    {
     "data": {
      "image/png": "[encoded data removed]",
      "text/plain": [
       "<Figure size 1500x500 with 1 Axes>"
      ]
     },
     "metadata": {},
     "output_type": "display_data"
    }
   ],
   "source": [
    "plt.figure(figsize=(15, 5))\n",
    "plt.plot(cumulative_data_a['dt'], cumulative_data_a['conversion'], label='A')\n",
    "plt.plot(cumulative_data_b['dt'], cumulative_data_b['conversion'], label='B')\n",
    "plt.title('График кумулятивного среднего количества заказов на посетителя по группам', pad=30)\n",
    "plt.xlabel('Дата')\n",
    "plt.ylabel('Среднее количество заказов')\n",
    "plt.grid()\n",
    "plt.legend();"
   ]
  },
  {
   "cell_type": "markdown",
   "id": "db059695",
   "metadata": {},
   "source": [
    "**Выводы**\n",
    "\n",
    "1. В начале теста  конверсия группы \"А\" была выше (кроме 2 августа), чем у группы \"В\" до 5 августа. При этом конверсия \"А\" начала свое падение в районе 3 августа. Падение продолжалось до 9 августа, а затем значение конверсии зафиксировалось в районе значения 0,03.\n",
    "2. С 1 на 2 августа значение конверсии группы \"В\" резко возросло почти до 0,035, но затем опустилось до 0,0305 4-го августа. Начиная с этого момента конверсия росла и достигла своего пика - чуть выше 0,036, затем произошло постепенное снижение, за исключением небольшого всплеска в районе 15-17 августа.\n",
    "3. Также на графике видно, что конверсия группы \"В\" стабильно выше \"А\", начиная с 6-го августа."
   ]
  },
  {
   "cell_type": "markdown",
   "id": "6656be11",
   "metadata": {},
   "source": [
    "### Построение графика относительного изменения кумулятивного среднего количества заказов на посетителя группы B к группе A"
   ]
  },
  {
   "cell_type": "code",
   "execution_count": 39,
   "id": "19a64906",
   "metadata": {},
   "outputs": [
    {
     "data": {
      "image/png": "[encoded data removed]",
      "text/plain": [
       "<Figure size 1500x500 with 1 Axes>"
      ]
     },
     "metadata": {},
     "output_type": "display_data"
    }
   ],
   "source": [
    "merged_сumulative_сonversions = (\n",
    "    cumulative_data_a[['dt','conversion']]\n",
    "    .merge(cumulative_data_b[['dt','conversion']], left_on='dt', right_on='dt', how='left', suffixes=['A', 'B'])\n",
    ")\n",
    "\n",
    "plt.figure(figsize=(15, 5))\n",
    "plt.plot(merged_сumulative_сonversions['dt'], \n",
    "         merged_сumulative_сonversions['conversionB']/merged_сumulative_сonversions['conversionA']-1, \\\n",
    "         label=\"Относительный прирост конверсии группы B относительно группы A\")\n",
    "\n",
    "plt.title('Относительный прирост конверсии группы B относительно группы A',\\\n",
    "          pad=30)\n",
    "plt.xlabel('Дата')\n",
    "plt.ylabel('Конверсия')\n",
    "plt.axhline(y=0, color='black', linestyle='--')\n",
    "plt.axhline(y=0.21, color='grey', linestyle='--')\n",
    "plt.axhline(y=0.117, color='grey', linestyle='--')\n",
    "plt.axhline(y=0.14, color='grey', linestyle='--')\n",
    "plt.axhline(y=-0.165, color='grey', linestyle='--')\n",
    "plt.grid()\n",
    "plt.legend();"
   ]
  },
  {
   "cell_type": "markdown",
   "id": "c872a6b9",
   "metadata": {},
   "source": [
    "**Вывод**\n",
    "\n",
    "Выводы по данному графику схожи выводом из пункта 4.4:\n",
    "\n",
    "- В начале теста конверсия была выше у группы \"А\" (за исключением 2-го августа) на 5-10 %.\n",
    "- Начиная с 6 августа конверсия группы \"В\" превысила \"А\". Максимальная разница между ними составила 21 % в районе 15 августа, но затем постипенно снизилась примерно до 10 %. А в конце поднялась до 14 %."
   ]
  },
  {
   "cell_type": "markdown",
   "id": "83397fca",
   "metadata": {},
   "source": [
    "### Построение точечного графика количества заказов по пользователям"
   ]
  },
  {
   "cell_type": "code",
   "execution_count": 40,
   "id": "ff688c5a",
   "metadata": {},
   "outputs": [
    {
     "data": {
      "text/html": [
       "<div>\n",
       "<style scoped>\n",
       "    .dataframe tbody tr th:only-of-type {\n",
       "        vertical-align: middle;\n",
       "    }\n",
       "\n",
       "    .dataframe tbody tr th {\n",
       "        vertical-align: top;\n",
       "    }\n",
       "\n",
       "    .dataframe thead th {\n",
       "        text-align: right;\n",
       "    }\n",
       "</style>\n",
       "<table border=\"1\" class=\"dataframe\">\n",
       "  <thead>\n",
       "    <tr style=\"text-align: right;\">\n",
       "      <th></th>\n",
       "      <th>user_id</th>\n",
       "      <th>orders</th>\n",
       "    </tr>\n",
       "  </thead>\n",
       "  <tbody>\n",
       "    <tr>\n",
       "      <th>908</th>\n",
       "      <td>3967698036</td>\n",
       "      <td>3</td>\n",
       "    </tr>\n",
       "    <tr>\n",
       "      <th>55</th>\n",
       "      <td>249864742</td>\n",
       "      <td>3</td>\n",
       "    </tr>\n",
       "    <tr>\n",
       "      <th>478</th>\n",
       "      <td>2108163459</td>\n",
       "      <td>3</td>\n",
       "    </tr>\n",
       "    <tr>\n",
       "      <th>687</th>\n",
       "      <td>2988190573</td>\n",
       "      <td>3</td>\n",
       "    </tr>\n",
       "    <tr>\n",
       "      <th>890</th>\n",
       "      <td>3908431265</td>\n",
       "      <td>3</td>\n",
       "    </tr>\n",
       "    <tr>\n",
       "      <th>138</th>\n",
       "      <td>611059232</td>\n",
       "      <td>3</td>\n",
       "    </tr>\n",
       "    <tr>\n",
       "      <th>632</th>\n",
       "      <td>2742574263</td>\n",
       "      <td>3</td>\n",
       "    </tr>\n",
       "    <tr>\n",
       "      <th>157</th>\n",
       "      <td>678354126</td>\n",
       "      <td>2</td>\n",
       "    </tr>\n",
       "    <tr>\n",
       "      <th>323</th>\n",
       "      <td>1404560065</td>\n",
       "      <td>2</td>\n",
       "    </tr>\n",
       "    <tr>\n",
       "      <th>452</th>\n",
       "      <td>1985475298</td>\n",
       "      <td>2</td>\n",
       "    </tr>\n",
       "  </tbody>\n",
       "</table>\n",
       "</div>"
      ],
      "text/plain": [
       "        user_id  orders\n",
       "908  3967698036       3\n",
       "55    249864742       3\n",
       "478  2108163459       3\n",
       "687  2988190573       3\n",
       "890  3908431265       3\n",
       "138   611059232       3\n",
       "632  2742574263       3\n",
       "157   678354126       2\n",
       "323  1404560065       2\n",
       "452  1985475298       2"
      ]
     },
     "execution_count": 40,
     "metadata": {},
     "output_type": "execute_result"
    }
   ],
   "source": [
    "orders_by_users = (\n",
    "    orders.groupby('visitor_id', as_index=False) # группировка заказов по пользователям\n",
    "    .agg({'transaction_id': 'nunique'}) # подсчет количества уникальных заказов\n",
    "    )\n",
    "orders_by_users.columns = ['user_id', 'orders']\n",
    "orders_by_users.sort_values(by='orders', ascending=False).head(10)"
   ]
  },
  {
   "cell_type": "code",
   "execution_count": 41,
   "id": "e7f97d6f",
   "metadata": {},
   "outputs": [
    {
     "data": {
      "image/png": "[encoded data removed]",
      "text/plain": [
       "<Figure size 1500x500 with 1 Axes>"
      ]
     },
     "metadata": {},
     "output_type": "display_data"
    }
   ],
   "source": [
    "# серия из чисел от нуля до количества наблюдений в orders_by_users\n",
    "x_values = pd.Series(range(0,len(orders_by_users)))\n",
    "plt.figure(figsize=(15,5))\n",
    "plt.title('График количества заказов по пользователям', pad=30)\n",
    "plt.xlabel('Пользователи')\n",
    "plt.ylabel('Число заказов')\n",
    "plt.grid()\n",
    "plt.scatter(x_values, orders_by_users['orders'], alpha=0.5);"
   ]
  },
  {
   "cell_type": "markdown",
   "id": "0980a4f3",
   "metadata": {},
   "source": [
    "**Вывод**\n",
    "\n",
    "Основная масса пользователей делает один заказ. Пользователей, которые совершают от 2-х заказов не так много и они могут быть аномальными. Чтобы это проверить надо посчитать выборочные перцентили."
   ]
  },
  {
   "cell_type": "markdown",
   "id": "643f9651",
   "metadata": {},
   "source": [
    "### Расчет 95-ого и 99-ого перцентилей количества заказов на пользователя"
   ]
  },
  {
   "cell_type": "code",
   "execution_count": 42,
   "id": "93ddfec1",
   "metadata": {},
   "outputs": [
    {
     "name": "stdout",
     "output_type": "stream",
     "text": [
      "[1. 2.]\n"
     ]
    }
   ],
   "source": [
    "print(np.percentile(orders_by_users['orders'], [95, 99]))"
   ]
  },
  {
   "cell_type": "markdown",
   "id": "51d8eff4",
   "metadata": {},
   "source": [
    "**Вывод**\n",
    "\n",
    "- Не более 5 % пользователей делали больше двух заказов.\n",
    "- Не более 1 % пользователей делали больше четырех заказов.\n",
    "- Устанавливаю в качестве границы пользователей, которые сделали более 4 заказов."
   ]
  },
  {
   "cell_type": "markdown",
   "id": "4275d09e",
   "metadata": {},
   "source": [
    "### Построение точечного графика стоимостей заказов"
   ]
  },
  {
   "cell_type": "code",
   "execution_count": 43,
   "id": "64db6038",
   "metadata": {
    "scrolled": false
   },
   "outputs": [
    {
     "data": {
      "image/png": "[encoded data removed]",
      "text/plain": [
       "<Figure size 1500x500 with 1 Axes>"
      ]
     },
     "metadata": {},
     "output_type": "display_data"
    }
   ],
   "source": [
    "# серия из чисел от нуля до количества наблюдений в orders\n",
    "x_values = pd.Series(range(0,len(orders['revenue'])))\n",
    "plt.figure(figsize=(15,5))\n",
    "plt.title('График стоимости заказов', pad=30)\n",
    "plt.xlabel('Пользователи')\n",
    "plt.ylabel('Стоимость')\n",
    "plt.grid()\n",
    "plt.scatter(x_values, orders['revenue'], alpha=0.5);"
   ]
  },
  {
   "cell_type": "markdown",
   "id": "2627076a",
   "metadata": {},
   "source": [
    "График выглядит совсем ненаглядно. Поэтому убираю значения, которые точно являются аномалиями - заказы свыше 190000."
   ]
  },
  {
   "cell_type": "code",
   "execution_count": 44,
   "id": "a7122f4a",
   "metadata": {},
   "outputs": [
    {
     "data": {
      "image/png": "[encoded data removed]",
      "text/plain": [
       "<Figure size 1500x500 with 1 Axes>"
      ]
     },
     "metadata": {},
     "output_type": "display_data"
    }
   ],
   "source": [
    "# отбираю заказы, которые меньше или равны 190000\n",
    "filtred_orders = orders[orders['revenue'] <= 190000]\n",
    "\n",
    "# серия из чисел от нуля до количества наблюдений в orders\n",
    "x_values = pd.Series(range(0,len(filtred_orders['revenue'])))\n",
    "plt.figure(figsize=(15,5))\n",
    "plt.title('График стоимости заказов', pad=30)\n",
    "plt.xlabel('Число пользователей')\n",
    "plt.ylabel('Стоимость')\n",
    "plt.grid()\n",
    "plt.scatter(x_values, filtred_orders['revenue'], alpha=0.5);"
   ]
  },
  {
   "cell_type": "markdown",
   "id": "b1f5a048",
   "metadata": {},
   "source": [
    "**Вывод**\n",
    "\n",
    "- После того, как отбросил два аномальных заказа, которые были выше 190000, стало видно, что все остальные заказы были в пределах 100000.\n",
    "- Также график показывает, что большинство заказов были не дороже 30000. Все что выше, скорее всего, аномалии. Чтобы это проверить рассчитаю 95-ый и 99-ый перцентили стоимости заказов."
   ]
  },
  {
   "cell_type": "markdown",
   "id": "3c360857",
   "metadata": {},
   "source": [
    "### Расчет 95-ого и 99-ого перцентилей стоимости заказов"
   ]
  },
  {
   "cell_type": "code",
   "execution_count": 45,
   "id": "f2320a46",
   "metadata": {},
   "outputs": [
    {
     "name": "stdout",
     "output_type": "stream",
     "text": [
      "[26785. 53904.]\n"
     ]
    }
   ],
   "source": [
    "print(np.percentile(orders['revenue'], [95, 99]))"
   ]
  },
  {
   "cell_type": "markdown",
   "id": "023da621",
   "metadata": {},
   "source": [
    "**Вывод**\n",
    "\n",
    "- Не более 5 % пользователей делали заказы стоимостью свыше 26785.\n",
    "- Не более 1 % пользователей - свыше 53904. Считаю, что это значение и нужно выбрать в качестве границы аномалий."
   ]
  },
  {
   "cell_type": "markdown",
   "id": "e993f340",
   "metadata": {},
   "source": [
    "### Расчет статистической значимости различий в среднем количестве заказов на посетителя между группами по «сырым» данным"
   ]
  },
  {
   "cell_type": "markdown",
   "id": "690571e7",
   "metadata": {},
   "source": [
    "Для начала подготавливаю данные: объединяю данные из таблиц orders и visitors; добавляю комулятивные значения; свожу это все в одну таблицу."
   ]
  },
  {
   "cell_type": "code",
   "execution_count": 46,
   "id": "55945559",
   "metadata": {
    "scrolled": false
   },
   "outputs": [],
   "source": [
    "# создаю таблицу с пользователями из датафрейма visitors, которые относятся к группе \"А\"\n",
    "visitors_a_daily = visitors[visitors['group'] == 'A'][['date', 'visitors']] # оставляю столбцы 'date' и 'visitors'\n",
    "visitors_a_daily.columns = ['date', 'visitors_per_date_a'] # переименование столбцов\n",
    "\n",
    "# создаю таблицу с пользователями из датафрейма visitors, которые относятся к группе \"В\"\n",
    "visitors_b_daily = visitors[visitors['group'] == 'B'][['date', 'visitors']] # оставляю столбцы 'date' и 'visitors'\n",
    "visitors_b_daily.columns = ['date', 'visitors_per_date_b'] # переименование столбцов"
   ]
  },
  {
   "cell_type": "code",
   "execution_count": 47,
   "id": "26855865",
   "metadata": {
    "scrolled": false
   },
   "outputs": [
    {
     "data": {
      "text/html": [
       "<div>\n",
       "<style scoped>\n",
       "    .dataframe tbody tr th:only-of-type {\n",
       "        vertical-align: middle;\n",
       "    }\n",
       "\n",
       "    .dataframe tbody tr th {\n",
       "        vertical-align: top;\n",
       "    }\n",
       "\n",
       "    .dataframe thead th {\n",
       "        text-align: right;\n",
       "    }\n",
       "</style>\n",
       "<table border=\"1\" class=\"dataframe\">\n",
       "  <thead>\n",
       "    <tr style=\"text-align: right;\">\n",
       "      <th></th>\n",
       "      <th>user_id</th>\n",
       "      <th>orders</th>\n",
       "    </tr>\n",
       "  </thead>\n",
       "  <tbody>\n",
       "    <tr>\n",
       "      <th>0</th>\n",
       "      <td>11685486</td>\n",
       "      <td>1</td>\n",
       "    </tr>\n",
       "    <tr>\n",
       "      <th>1</th>\n",
       "      <td>54447517</td>\n",
       "      <td>1</td>\n",
       "    </tr>\n",
       "    <tr>\n",
       "      <th>2</th>\n",
       "      <td>66685450</td>\n",
       "      <td>1</td>\n",
       "    </tr>\n",
       "    <tr>\n",
       "      <th>3</th>\n",
       "      <td>78758296</td>\n",
       "      <td>1</td>\n",
       "    </tr>\n",
       "    <tr>\n",
       "      <th>4</th>\n",
       "      <td>85103373</td>\n",
       "      <td>1</td>\n",
       "    </tr>\n",
       "    <tr>\n",
       "      <th>...</th>\n",
       "      <td>...</td>\n",
       "      <td>...</td>\n",
       "    </tr>\n",
       "    <tr>\n",
       "      <th>440</th>\n",
       "      <td>4227830084</td>\n",
       "      <td>1</td>\n",
       "    </tr>\n",
       "    <tr>\n",
       "      <th>441</th>\n",
       "      <td>4237561104</td>\n",
       "      <td>1</td>\n",
       "    </tr>\n",
       "    <tr>\n",
       "      <th>442</th>\n",
       "      <td>4243832526</td>\n",
       "      <td>1</td>\n",
       "    </tr>\n",
       "    <tr>\n",
       "      <th>443</th>\n",
       "      <td>4259830713</td>\n",
       "      <td>1</td>\n",
       "    </tr>\n",
       "    <tr>\n",
       "      <th>444</th>\n",
       "      <td>4278982564</td>\n",
       "      <td>1</td>\n",
       "    </tr>\n",
       "  </tbody>\n",
       "</table>\n",
       "<p>445 rows × 2 columns</p>\n",
       "</div>"
      ],
      "text/plain": [
       "        user_id  orders\n",
       "0      11685486       1\n",
       "1      54447517       1\n",
       "2      66685450       1\n",
       "3      78758296       1\n",
       "4      85103373       1\n",
       "..          ...     ...\n",
       "440  4227830084       1\n",
       "441  4237561104       1\n",
       "442  4243832526       1\n",
       "443  4259830713       1\n",
       "444  4278982564       1\n",
       "\n",
       "[445 rows x 2 columns]"
      ]
     },
     "execution_count": 47,
     "metadata": {},
     "output_type": "execute_result"
    }
   ],
   "source": [
    "# создаю переменные orders_by_users_a и orders_by_users_a для групп \"А\" и \"В\" соответственно,\n",
    "# в которых для каждого пользователя, совершившего хотя бы 1 заказ, будет указана сумма сделанных заказов\n",
    "\n",
    "orders_by_users_a = (\n",
    "    orders[orders['group'] == 'A']\n",
    "    .groupby('visitor_id', as_index=False)\n",
    "    .agg({'transaction_id': pd.Series.nunique})\n",
    ")\n",
    "orders_by_users_a.columns = ['user_id', 'orders']\n",
    "\n",
    "orders_by_users_b = (\n",
    "    orders[orders['group'] == 'B']\n",
    "    .groupby('visitor_id', as_index=False)\n",
    "    .agg({'transaction_id': pd.Series.nunique})\n",
    ")\n",
    "orders_by_users_b.columns = ['user_id', 'orders']\n",
    "orders_by_users_a"
   ]
  },
  {
   "cell_type": "markdown",
   "id": "db35b810",
   "metadata": {},
   "source": [
    "Создаю переменные sample_a и sample_b, в которых пользователям из разных групп будет соответствовать количество заказов.\n",
    "Тем, кто ничего не заказал, будут соотвтствовать нули. Это нужно для проверки критерием Манна-Уитни."
   ]
  },
  {
   "cell_type": "code",
   "execution_count": 48,
   "id": "6222061e",
   "metadata": {},
   "outputs": [],
   "source": [
    "# объявляю переменную sample_a\n",
    "sample_a = pd.concat(\n",
    "    [\n",
    "        orders_by_users_a['orders'],\n",
    "        pd.Series(\n",
    "            0,\n",
    "            index=np.arange(\n",
    "                visitors_a_daily['visitors_per_date_a'].sum() - len(orders_by_users_a['orders'])\n",
    "            ),\n",
    "            name='orders',\n",
    "        ),\n",
    "    ],\n",
    "    axis=0,\n",
    ")\n",
    "\n",
    "# объявляю переменную sample_b\n",
    "sample_b = pd.concat(\n",
    "    [\n",
    "        orders_by_users_b['orders'],\n",
    "        pd.Series(\n",
    "            0,\n",
    "            index=np.arange(\n",
    "                visitors_b_daily['visitors_per_date_b'].sum() - len(orders_by_users_b['orders'])\n",
    "            ),\n",
    "            name='orders',\n",
    "        ),\n",
    "    ],\n",
    "    axis=0,\n",
    ")"
   ]
  },
  {
   "cell_type": "markdown",
   "id": "ab40ac68",
   "metadata": {},
   "source": [
    "Формулирую гипотезы. Нулевая: различий в среднем количестве заказов между группами нет. Альтернативная: различия в среднем между группами есть."
   ]
  },
  {
   "cell_type": "markdown",
   "id": "0b101fa1",
   "metadata": {},
   "source": [
    "Беру пороговое значение равное 5 %.\n",
    "\n",
    "Применяю критерий Манна-Уитни и форматирую p-value до 3-х знаков после запятой.\n",
    "\n",
    "Считаю относительный прирост среднего числа заказов группы B: (среднее число заказов группы B / среднее число заказов группы A) - 1. Округляю до трёх знаков после запятой."
   ]
  },
  {
   "cell_type": "code",
   "execution_count": 49,
   "id": "41641cc0",
   "metadata": {},
   "outputs": [
    {
     "name": "stdout",
     "output_type": "stream",
     "text": [
      "alpha = 0.05\n",
      "p-value = 0.011\n",
      "Относительный прирост среднего числа заказов группы \"B\": 0.160\n"
     ]
    }
   ],
   "source": [
    "# пороговое значение alpha = 0.05\n",
    "print('alpha = 0.05')\n",
    "\n",
    "# расчет p-value с помощью критерия Манна-Уитни\n",
    "print('p-value = {0:.3f}'.format(st.mannwhitneyu(sample_a, sample_b)[1]))\n",
    "\n",
    "# расчет относительного прироста числа заказов группы \"В\"\n",
    "print('Относительный прирост среднего числа заказов группы \"B\": {0:.3f}'.format(sample_b.mean() / sample_a.mean() - 1))"
   ]
  },
  {
   "cell_type": "markdown",
   "id": "042ee2df",
   "metadata": {},
   "source": [
    "**Выводы**\n",
    "\n",
    "1. p-value меньше alpha, следовательно различия в среднем между группами есть, значит нулевую гипотезу отвергаю.\n",
    "2. Относительный выигрыш числа заказов группы \"В\" равен 16 %."
   ]
  },
  {
   "cell_type": "markdown",
   "id": "ea50b85c",
   "metadata": {},
   "source": [
    "### Расчет статистической значимости различий в среднем чеке заказа между группами по «сырым» данным"
   ]
  },
  {
   "cell_type": "markdown",
   "id": "c323fe4e",
   "metadata": {},
   "source": [
    "Формулирую гипотезы:\n",
    "\n",
    "1. Нулевая: различий в среднем чеке заказа между группами нет. \n",
    "2. Альтернативная: различия в среднем чеке заказа между группами есть.\n",
    "\n",
    "Беру пороговое значение равное 5 %."
   ]
  },
  {
   "cell_type": "code",
   "execution_count": 50,
   "id": "131e476f",
   "metadata": {},
   "outputs": [
    {
     "name": "stdout",
     "output_type": "stream",
     "text": [
      "alpha = 0.05\n",
      "p-value = 0.829\n",
      "Относительное различие в среднем чеке между группами: 0.287\n"
     ]
    }
   ],
   "source": [
    "# пороговое значение alpha = 0.05\n",
    "print('alpha = 0.05')\n",
    "\n",
    "# расчет p-value с помощью критерия Манна-Уитни\n",
    "print('p-value = {0:.3f}'.format(st.mannwhitneyu(orders[orders['group']=='A']['revenue'],\n",
    "                                     orders[orders['group']=='B']['revenue'])[1]))\n",
    "\n",
    "# расчет относительных различий в среднем чеке между группами\n",
    "print('Относительное различие в среднем чеке между группами: {0:.3f}'\n",
    "      .format(orders[orders['group']=='B']['revenue']\n",
    "              .mean()/orders[orders['group']=='A']['revenue'].mean()-1)) "
   ]
  },
  {
   "cell_type": "markdown",
   "id": "86033aee",
   "metadata": {},
   "source": [
    "**Вывод**\n",
    "\n",
    "1. p-value больше alpha, следовательно нулевая гипотезе не отвергается.\n",
    "2. При этом относительный выигрыш группы \"В\" значительный и составляет 28,7 %."
   ]
  },
  {
   "cell_type": "markdown",
   "id": "ad0de62c",
   "metadata": {},
   "source": [
    "### Расчет статистической значимости различий в среднем количестве заказов на посетителя между группами по «очищенным» данным"
   ]
  },
  {
   "cell_type": "markdown",
   "id": "548770eb",
   "metadata": {},
   "source": [
    "В пункте 5.7. было установлено, что пользователи, сделавшие выше 2-х заказов являются аномалией. Также в пункте 5.9. определил, что аномалиями являются заказы дороже 53904. Беру пороговое значение равное 5 %.\n",
    "\n",
    "Исходя из этого сделаем расчет количества таких аномалей, для этого: \n",
    "1. Создаю переменную users_with_many_orders, в ней соединю orders_by_users_a и orders_by_users_b, в которых таблица с количеством заказов по каждому пользователю по группам \"А\" и \"В\" соответственно. По каждой группе сделаем срез от 2-х заказов.\n",
    "2. Создаю переменную users_with_expensive_orders, в которую войдут пользователи из датафрейма orders с суммой заказа от 53904.\n",
    "3. Две полученные переменные объединю в переменной abnormal_users с удалением дубликатов и посчитаю количество аномалий."
   ]
  },
  {
   "cell_type": "code",
   "execution_count": 51,
   "id": "cfbf4417",
   "metadata": {},
   "outputs": [
    {
     "name": "stdout",
     "output_type": "stream",
     "text": [
      "631    4133034833\n",
      "802    4003628586\n",
      "416    3967698036\n",
      "409    3908431265\n",
      "310    2988190573\n",
      "dtype: int64\n",
      "Количество аномальных пользователей: 16\n"
     ]
    }
   ],
   "source": [
    "percentile = 2\n",
    "# формирование переменной users_with_many_orders\n",
    "users_with_many_orders = pd.concat(\n",
    "    [\n",
    "        orders_by_users_a[orders_by_users_a['orders'] > percentile]['user_id'],\n",
    "        orders_by_users_b[orders_by_users_b['orders'] > percentile]['user_id'],\n",
    "    ],\n",
    "    axis=0\n",
    ")    \n",
    "\n",
    "# формирование переменной users_with_expensive_orders\n",
    "users_with_expensive_orders = orders[orders['revenue'] > 58233.2]['visitor_id']\n",
    "\n",
    "# объединение 2-х полученных переменных в abnormal_users\n",
    "abnormal_users = (\n",
    "    pd.concat([users_with_many_orders, users_with_expensive_orders], axis=0)\n",
    "    .drop_duplicates()\n",
    "    .sort_values(ascending=False)\n",
    ")\n",
    "\n",
    "print(abnormal_users.head(5))\n",
    "print('Количество аномальных пользователей:', len(abnormal_users))"
   ]
  },
  {
   "cell_type": "markdown",
   "id": "6626c501",
   "metadata": {},
   "source": [
    "Оперделяю, как их действия повлияли на результаты теста. Считаю статистическую значимость различий в среднем количестве заказов между группами теста по очищенным данным. Сначала подготавливаю выборки количества заказов по пользователям по группам теста."
   ]
  },
  {
   "cell_type": "code",
   "execution_count": 52,
   "id": "5780c260",
   "metadata": {},
   "outputs": [],
   "source": [
    "# убираю аномалии в группе \"А\"\n",
    "sample_a_filtered = pd.concat(\n",
    "    [\n",
    "        orders_by_users_a[\n",
    "            np.logical_not(orders_by_users_a['user_id'].isin(abnormal_users))\n",
    "        ]['orders'],\n",
    "        pd.Series(\n",
    "            0,\n",
    "            index=np.arange(\n",
    "                visitors_a_daily['visitors_per_date_a'].sum() - len(orders_by_users_a['orders'])\n",
    "            ),\n",
    "            name='orders',\n",
    "        ),\n",
    "    ],\n",
    "    axis=0,\n",
    ")\n",
    "\n",
    "# убираю аномалии в группе \"В\"\n",
    "sample_b_filtered = pd.concat(\n",
    "    [\n",
    "        orders_by_users_b[\n",
    "            np.logical_not(orders_by_users_b['user_id'].isin(abnormal_users))\n",
    "        ]['orders'],\n",
    "        pd.Series(\n",
    "            0,\n",
    "            index=np.arange(\n",
    "                visitors_b_daily['visitors_per_date_b'].sum() - len(orders_by_users_b['orders'])\n",
    "            ),\n",
    "            name='orders',\n",
    "        ),\n",
    "    ],\n",
    "    axis=0,\n",
    ")"
   ]
  },
  {
   "cell_type": "markdown",
   "id": "76a19b7f",
   "metadata": {},
   "source": [
    "К отобранным данным применяю критерий Манна-Уитни.\n",
    "\n",
    "За нулевую гипотезу беру: различий в среднем количестве заказов между группами по «очищенным» данным нет.\n",
    "\n",
    "За альтернативную: статистическая значимость различия есть."
   ]
  },
  {
   "cell_type": "code",
   "execution_count": 53,
   "id": "59571077",
   "metadata": {},
   "outputs": [
    {
     "name": "stdout",
     "output_type": "stream",
     "text": [
      "alpha = 0.05\n",
      "p-value: 0.007\n",
      "Относительные различия: 0.189\n"
     ]
    }
   ],
   "source": [
    "print('alpha = 0.05')\n",
    "print('p-value:','{0:.3f}'.format(st.mannwhitneyu(sample_a_filtered, sample_b_filtered)[1]))\n",
    "print('Относительные различия:','{0:.3f}'.format(sample_b_filtered.mean()/sample_a_filtered.mean()-1)) "
   ]
  },
  {
   "cell_type": "markdown",
   "id": "7ca4a4e9",
   "metadata": {},
   "source": [
    "**Вывод**\n",
    "\n",
    "1. p-value меньше alpha, отсюда следует, что нулевая гипотеза не подтвердилась. Тот же результата был и с \"сырыми\" данными\n",
    "2. Расчет относительного прироста числа заказов показал, что группа \"В\" в выигрыше, так же как и с \"сырыми\" данными. Но у очищенных днных выигрыш составил 18,9 %, в то время, как у \"сырых\" - 16 %."
   ]
  },
  {
   "cell_type": "markdown",
   "id": "1f1ced16",
   "metadata": {},
   "source": [
    "### Расчет статистической значимости различий в среднем чеке заказа между группами по «очищенным» данным"
   ]
  },
  {
   "cell_type": "markdown",
   "id": "10f6e095",
   "metadata": {},
   "source": [
    "За нулевую гипотезу беру: статистической значимости различий в среднем чеке заказа между группами по «очищенным» данным нет.\n",
    "\n",
    "За альтернативную: статистическая значимость различия есть.\n",
    "\n",
    "Беру пороговое значение равное 5 %."
   ]
  },
  {
   "cell_type": "code",
   "execution_count": 54,
   "id": "d22904b9",
   "metadata": {
    "scrolled": true
   },
   "outputs": [
    {
     "name": "stdout",
     "output_type": "stream",
     "text": [
      "alpha = 0.05\n",
      "p-value = 0.788\n",
      "Относительные различия: -0.032\n"
     ]
    }
   ],
   "source": [
    "print('alpha = 0.05')\n",
    "print(\n",
    "    'p-value = {0:.3f}'.format(\n",
    "        st.mannwhitneyu(\n",
    "            orders[\n",
    "                np.logical_and(\n",
    "                    orders['group'] == 'A',\n",
    "                    np.logical_not(orders['visitor_id'].isin(abnormal_users)),\n",
    "                )\n",
    "            ]['revenue'],\n",
    "            orders[\n",
    "                np.logical_and(\n",
    "                    orders['group'] == 'B',\n",
    "                    np.logical_not(orders['visitor_id'].isin(abnormal_users)),\n",
    "                )\n",
    "            ]['revenue'],\n",
    "        )[1]\n",
    "    )\n",
    ")\n",
    "\n",
    "print(\n",
    "    \"Относительные различия: {0:.3f}\".format(\n",
    "        orders[\n",
    "            np.logical_and(\n",
    "                orders['group'] == 'B',\n",
    "                np.logical_not(orders['visitor_id'].isin(abnormal_users)),\n",
    "            )\n",
    "        ]['revenue'].mean()\n",
    "        / orders[\n",
    "            np.logical_and(\n",
    "                orders['group'] == 'A',\n",
    "                np.logical_not(orders['visitor_id'].isin(abnormal_users)),\n",
    "            )\n",
    "        ]['revenue'].mean()\n",
    "        - 1\n",
    "    )\n",
    ")"
   ]
  },
  {
   "cell_type": "markdown",
   "id": "6a733017",
   "metadata": {},
   "source": [
    "**Вывод**\n",
    "\n",
    "1. p-value больше alpha, следовательно нулевая гипотезе не отвергается.\n",
    "2. При этом у групп \"В\" и \"А\" практически не наблюдается относительное различие. Но по \"сырым\" данным у группы \"В\" было значительное превосходство и составляло 28,7 %, а это значит, что аномальных значения сильно искажали значения средного чека."
   ]
  },
  {
   "cell_type": "markdown",
   "id": "939f60bd",
   "metadata": {},
   "source": [
    "### Принятие решения по результатам теста"
   ]
  },
  {
   "cell_type": "markdown",
   "id": "6ec96e33",
   "metadata": {},
   "source": [
    "В ходе проведенного исследования выяснил:\n",
    "1. Не подтвердилась нулевая гипотеза: \"различий в среднем количестве заказов между группами нет\". Опровержение данной гипотезы было выявлено как и по \"сырым\", так и по \"очищенным\" данным. Относительный выигрыш числа заказов группы \"В\" по \"сырым\" данным равен 16 %, в то время как по \"очищенным\" - 18,9 %.\n",
    "2. Подтвердилась нулевая гипотеза: \"статистической значимости различий в среднем чеке заказа между группами по «очищенным» данным нет\". При этом после очистки данных от аномалий у групп \"В\" и \"А\" практически нет относительного различия, хотя по \"сырым\" данным выигрывала аж 28,7 %. Это значит, что аномальные значения сильно искажали значения средного чека.\n",
    "3. График относительного прироста конверсии между группами сообщает, что результаты группы «В» лучше «А»: имеют тенденции к росту, либо практически достигли среднего значения.\n",
    "4. График различия кумулятивного среднего чека сильно колеблется. Он мне указал на то, что в данных есть аномалии. Сделать из этого графика определённые выводы нельзя.\n",
    "\n",
    "На основании вышеизложенного принимаю решение остановить тест, так как статистически группа \"В\" превосходит группу \"А\", а именно по конверсии пользователей. Хотя средний чек у них примерно равный."
   ]
  }
 ],
 "metadata": {
  "ExecuteTimeLog": [
   {
    "duration": 1249,
    "start_time": "2023-04-28T17:55:38.821Z"
   },
   {
    "duration": 309,
    "start_time": "2023-04-28T17:55:40.072Z"
   },
   {
    "duration": 15,
    "start_time": "2023-04-28T17:55:40.383Z"
   },
   {
    "duration": 30,
    "start_time": "2023-04-28T17:55:40.400Z"
   },
   {
    "duration": 11,
    "start_time": "2023-04-28T17:55:40.432Z"
   },
   {
    "duration": 26,
    "start_time": "2023-04-28T17:55:40.444Z"
   },
   {
    "duration": 10,
    "start_time": "2023-04-28T17:55:40.471Z"
   },
   {
    "duration": 17,
    "start_time": "2023-04-28T17:55:40.483Z"
   },
   {
    "duration": 7,
    "start_time": "2023-04-28T17:55:40.502Z"
   },
   {
    "duration": 7,
    "start_time": "2023-04-28T17:55:40.512Z"
   },
   {
    "duration": 7,
    "start_time": "2023-04-28T17:55:40.521Z"
   },
   {
    "duration": 16,
    "start_time": "2023-04-28T17:55:40.529Z"
   },
   {
    "duration": 11,
    "start_time": "2023-04-28T17:55:40.546Z"
   },
   {
    "duration": 7,
    "start_time": "2023-04-28T17:55:40.559Z"
   },
   {
    "duration": 25,
    "start_time": "2023-04-28T17:55:40.568Z"
   },
   {
    "duration": 4,
    "start_time": "2023-04-28T17:55:40.595Z"
   },
   {
    "duration": 13,
    "start_time": "2023-04-28T17:55:40.601Z"
   },
   {
    "duration": 6,
    "start_time": "2023-04-28T17:55:40.616Z"
   },
   {
    "duration": 22,
    "start_time": "2023-04-28T17:55:40.624Z"
   },
   {
    "duration": 13,
    "start_time": "2023-04-28T17:55:40.647Z"
   },
   {
    "duration": 12,
    "start_time": "2023-04-28T17:55:40.692Z"
   },
   {
    "duration": 185,
    "start_time": "2023-04-28T17:55:40.708Z"
   },
   {
    "duration": 129,
    "start_time": "2023-04-28T17:55:40.895Z"
   },
   {
    "duration": 14,
    "start_time": "2023-04-28T17:55:41.025Z"
   },
   {
    "duration": 16,
    "start_time": "2023-04-28T17:55:41.041Z"
   },
   {
    "duration": 17,
    "start_time": "2023-04-28T17:55:41.058Z"
   },
   {
    "duration": 318,
    "start_time": "2023-04-28T17:55:41.077Z"
   },
   {
    "duration": 226,
    "start_time": "2023-04-28T17:55:41.398Z"
   },
   {
    "duration": 410,
    "start_time": "2023-04-28T17:55:41.625Z"
   },
   {
    "duration": 6,
    "start_time": "2023-04-28T17:55:42.036Z"
   },
   {
    "duration": 251,
    "start_time": "2023-04-28T17:55:42.043Z"
   },
   {
    "duration": 349,
    "start_time": "2023-04-28T17:55:42.296Z"
   },
   {
    "duration": 11,
    "start_time": "2023-04-28T17:55:42.647Z"
   },
   {
    "duration": 164,
    "start_time": "2023-04-28T17:55:42.660Z"
   },
   {
    "duration": 6,
    "start_time": "2023-04-28T17:55:42.826Z"
   },
   {
    "duration": 186,
    "start_time": "2023-04-28T17:55:42.834Z"
   },
   {
    "duration": 196,
    "start_time": "2023-04-28T17:55:43.021Z"
   },
   {
    "duration": 4,
    "start_time": "2023-04-28T17:55:43.219Z"
   },
   {
    "duration": 67,
    "start_time": "2023-04-28T17:55:43.225Z"
   },
   {
    "duration": 60,
    "start_time": "2023-04-28T17:55:43.294Z"
   },
   {
    "duration": 78,
    "start_time": "2023-04-28T17:55:43.356Z"
   },
   {
    "duration": 71,
    "start_time": "2023-04-28T17:55:43.435Z"
   },
   {
    "duration": 32,
    "start_time": "2023-04-28T17:55:43.508Z"
   },
   {
    "duration": 176,
    "start_time": "2023-04-28T17:55:43.542Z"
   },
   {
    "duration": 7,
    "start_time": "2023-04-28T17:55:43.720Z"
   },
   {
    "duration": 24,
    "start_time": "2023-04-28T17:55:43.729Z"
   },
   {
    "duration": 44,
    "start_time": "2023-04-28T17:55:43.755Z"
   },
   {
    "duration": 11,
    "start_time": "2023-04-28T17:55:43.801Z"
   },
   {
    "duration": 19,
    "start_time": "2023-04-28T17:55:43.814Z"
   },
   {
    "duration": 23,
    "start_time": "2023-04-28T17:55:43.835Z"
   },
   {
    "duration": 16,
    "start_time": "2023-04-28T17:55:43.891Z"
   },
   {
    "duration": 70,
    "start_time": "2023-04-28T19:07:46.953Z"
   },
   {
    "duration": 9,
    "start_time": "2023-04-28T19:07:57.599Z"
   },
   {
    "duration": 8,
    "start_time": "2023-04-28T19:08:18.264Z"
   },
   {
    "duration": 1540,
    "start_time": "2023-04-28T19:08:24.959Z"
   },
   {
    "duration": 371,
    "start_time": "2023-04-28T19:08:26.502Z"
   },
   {
    "duration": 128,
    "start_time": "2023-04-28T19:08:26.876Z"
   },
   {
    "duration": 0,
    "start_time": "2023-04-28T19:08:27.009Z"
   },
   {
    "duration": 0,
    "start_time": "2023-04-28T19:08:27.011Z"
   },
   {
    "duration": 0,
    "start_time": "2023-04-28T19:08:27.012Z"
   },
   {
    "duration": 0,
    "start_time": "2023-04-28T19:08:27.014Z"
   },
   {
    "duration": 0,
    "start_time": "2023-04-28T19:08:27.016Z"
   },
   {
    "duration": 0,
    "start_time": "2023-04-28T19:08:27.018Z"
   },
   {
    "duration": 0,
    "start_time": "2023-04-28T19:08:27.020Z"
   },
   {
    "duration": 0,
    "start_time": "2023-04-28T19:08:27.046Z"
   },
   {
    "duration": 0,
    "start_time": "2023-04-28T19:08:27.049Z"
   },
   {
    "duration": 0,
    "start_time": "2023-04-28T19:08:27.055Z"
   },
   {
    "duration": 0,
    "start_time": "2023-04-28T19:08:27.056Z"
   },
   {
    "duration": 0,
    "start_time": "2023-04-28T19:08:27.057Z"
   },
   {
    "duration": 0,
    "start_time": "2023-04-28T19:08:27.058Z"
   },
   {
    "duration": 0,
    "start_time": "2023-04-28T19:08:27.059Z"
   },
   {
    "duration": 0,
    "start_time": "2023-04-28T19:08:27.060Z"
   },
   {
    "duration": 0,
    "start_time": "2023-04-28T19:08:27.060Z"
   },
   {
    "duration": 0,
    "start_time": "2023-04-28T19:08:27.064Z"
   },
   {
    "duration": 0,
    "start_time": "2023-04-28T19:08:27.065Z"
   },
   {
    "duration": 0,
    "start_time": "2023-04-28T19:08:27.067Z"
   },
   {
    "duration": 0,
    "start_time": "2023-04-28T19:08:27.069Z"
   },
   {
    "duration": 0,
    "start_time": "2023-04-28T19:08:27.071Z"
   },
   {
    "duration": 0,
    "start_time": "2023-04-28T19:08:27.073Z"
   },
   {
    "duration": 0,
    "start_time": "2023-04-28T19:08:27.075Z"
   },
   {
    "duration": 0,
    "start_time": "2023-04-28T19:08:27.076Z"
   },
   {
    "duration": 0,
    "start_time": "2023-04-28T19:08:27.078Z"
   },
   {
    "duration": 0,
    "start_time": "2023-04-28T19:08:27.080Z"
   },
   {
    "duration": 0,
    "start_time": "2023-04-28T19:08:27.082Z"
   },
   {
    "duration": 0,
    "start_time": "2023-04-28T19:08:27.084Z"
   },
   {
    "duration": 0,
    "start_time": "2023-04-28T19:08:27.086Z"
   },
   {
    "duration": 0,
    "start_time": "2023-04-28T19:08:27.089Z"
   },
   {
    "duration": 0,
    "start_time": "2023-04-28T19:08:27.090Z"
   },
   {
    "duration": 0,
    "start_time": "2023-04-28T19:08:27.092Z"
   },
   {
    "duration": 0,
    "start_time": "2023-04-28T19:08:27.145Z"
   },
   {
    "duration": 0,
    "start_time": "2023-04-28T19:08:27.146Z"
   },
   {
    "duration": 0,
    "start_time": "2023-04-28T19:08:27.147Z"
   },
   {
    "duration": 0,
    "start_time": "2023-04-28T19:08:27.151Z"
   },
   {
    "duration": 0,
    "start_time": "2023-04-28T19:08:27.152Z"
   },
   {
    "duration": 0,
    "start_time": "2023-04-28T19:08:27.154Z"
   },
   {
    "duration": 0,
    "start_time": "2023-04-28T19:08:27.155Z"
   },
   {
    "duration": 0,
    "start_time": "2023-04-28T19:08:27.156Z"
   },
   {
    "duration": 0,
    "start_time": "2023-04-28T19:08:27.157Z"
   },
   {
    "duration": 0,
    "start_time": "2023-04-28T19:08:27.159Z"
   },
   {
    "duration": 0,
    "start_time": "2023-04-28T19:08:27.160Z"
   },
   {
    "duration": 0,
    "start_time": "2023-04-28T19:08:27.161Z"
   },
   {
    "duration": 0,
    "start_time": "2023-04-28T19:08:27.162Z"
   },
   {
    "duration": 0,
    "start_time": "2023-04-28T19:08:27.163Z"
   },
   {
    "duration": 0,
    "start_time": "2023-04-28T19:08:27.165Z"
   },
   {
    "duration": 0,
    "start_time": "2023-04-28T19:08:27.166Z"
   },
   {
    "duration": 16,
    "start_time": "2023-04-28T19:10:57.637Z"
   },
   {
    "duration": 4,
    "start_time": "2023-04-28T19:14:20.870Z"
   },
   {
    "duration": 99,
    "start_time": "2023-04-28T19:14:20.876Z"
   },
   {
    "duration": 10,
    "start_time": "2023-04-28T19:14:20.977Z"
   },
   {
    "duration": 20,
    "start_time": "2023-04-28T19:14:20.989Z"
   },
   {
    "duration": 19,
    "start_time": "2023-04-28T19:14:21.011Z"
   },
   {
    "duration": 19,
    "start_time": "2023-04-28T19:14:21.032Z"
   },
   {
    "duration": 21,
    "start_time": "2023-04-28T19:14:21.053Z"
   },
   {
    "duration": 20,
    "start_time": "2023-04-28T19:14:21.076Z"
   },
   {
    "duration": 14,
    "start_time": "2023-04-28T19:14:21.099Z"
   },
   {
    "duration": 11,
    "start_time": "2023-04-28T19:14:21.115Z"
   },
   {
    "duration": 16,
    "start_time": "2023-04-28T19:14:21.128Z"
   },
   {
    "duration": 17,
    "start_time": "2023-04-28T19:14:21.146Z"
   },
   {
    "duration": 11,
    "start_time": "2023-04-28T19:14:21.165Z"
   },
   {
    "duration": 9,
    "start_time": "2023-04-28T19:14:21.178Z"
   },
   {
    "duration": 14,
    "start_time": "2023-04-28T19:14:21.189Z"
   },
   {
    "duration": 30,
    "start_time": "2023-04-28T19:14:21.206Z"
   },
   {
    "duration": 35,
    "start_time": "2023-04-28T19:14:21.238Z"
   },
   {
    "duration": 6,
    "start_time": "2023-04-28T19:14:21.275Z"
   },
   {
    "duration": 18,
    "start_time": "2023-04-28T19:14:21.284Z"
   },
   {
    "duration": 34,
    "start_time": "2023-04-28T19:14:21.304Z"
   },
   {
    "duration": 11,
    "start_time": "2023-04-28T19:14:21.341Z"
   },
   {
    "duration": 200,
    "start_time": "2023-04-28T19:14:21.354Z"
   },
   {
    "duration": 185,
    "start_time": "2023-04-28T19:14:21.556Z"
   },
   {
    "duration": 18,
    "start_time": "2023-04-28T19:14:21.746Z"
   },
   {
    "duration": 18,
    "start_time": "2023-04-28T19:14:21.767Z"
   },
   {
    "duration": 16,
    "start_time": "2023-04-28T19:14:21.787Z"
   },
   {
    "duration": 331,
    "start_time": "2023-04-28T19:14:21.805Z"
   },
   {
    "duration": 284,
    "start_time": "2023-04-28T19:14:22.142Z"
   },
   {
    "duration": 392,
    "start_time": "2023-04-28T19:14:22.429Z"
   },
   {
    "duration": 7,
    "start_time": "2023-04-28T19:14:22.823Z"
   },
   {
    "duration": 287,
    "start_time": "2023-04-28T19:14:22.832Z"
   },
   {
    "duration": 426,
    "start_time": "2023-04-28T19:14:23.121Z"
   },
   {
    "duration": 15,
    "start_time": "2023-04-28T19:14:23.552Z"
   },
   {
    "duration": 192,
    "start_time": "2023-04-28T19:14:23.569Z"
   },
   {
    "duration": 6,
    "start_time": "2023-04-28T19:14:23.764Z"
   },
   {
    "duration": 209,
    "start_time": "2023-04-28T19:14:23.774Z"
   },
   {
    "duration": 225,
    "start_time": "2023-04-28T19:14:23.986Z"
   },
   {
    "duration": 7,
    "start_time": "2023-04-28T19:14:24.214Z"
   },
   {
    "duration": 141,
    "start_time": "2023-04-28T19:14:24.223Z"
   },
   {
    "duration": 61,
    "start_time": "2023-04-28T19:14:24.367Z"
   },
   {
    "duration": 82,
    "start_time": "2023-04-28T19:14:24.430Z"
   },
   {
    "duration": 81,
    "start_time": "2023-04-28T19:14:24.514Z"
   },
   {
    "duration": 51,
    "start_time": "2023-04-28T19:14:24.597Z"
   },
   {
    "duration": 157,
    "start_time": "2023-04-28T19:14:24.650Z"
   },
   {
    "duration": 9,
    "start_time": "2023-04-28T19:14:24.809Z"
   },
   {
    "duration": 40,
    "start_time": "2023-04-28T19:14:24.820Z"
   },
   {
    "duration": 13,
    "start_time": "2023-04-28T19:14:24.862Z"
   },
   {
    "duration": 19,
    "start_time": "2023-04-28T19:14:24.877Z"
   },
   {
    "duration": 33,
    "start_time": "2023-04-28T19:14:24.899Z"
   },
   {
    "duration": 38,
    "start_time": "2023-04-28T19:14:24.935Z"
   },
   {
    "duration": 17,
    "start_time": "2023-04-28T19:14:24.974Z"
   },
   {
    "duration": 14,
    "start_time": "2023-04-28T19:17:20.257Z"
   },
   {
    "duration": 7,
    "start_time": "2023-04-28T19:24:03.640Z"
   },
   {
    "duration": 7,
    "start_time": "2023-04-28T19:27:58.367Z"
   },
   {
    "duration": 7,
    "start_time": "2023-04-28T19:28:47.623Z"
   },
   {
    "duration": 7,
    "start_time": "2023-04-28T19:35:42.556Z"
   },
   {
    "duration": 11,
    "start_time": "2023-04-28T19:36:58.557Z"
   },
   {
    "duration": 8,
    "start_time": "2023-04-28T19:37:05.964Z"
   },
   {
    "duration": 8,
    "start_time": "2023-04-28T19:37:10.516Z"
   },
   {
    "duration": 9,
    "start_time": "2023-04-28T19:46:03.711Z"
   },
   {
    "duration": 90,
    "start_time": "2023-04-28T19:46:26.514Z"
   },
   {
    "duration": 11,
    "start_time": "2023-04-28T19:50:35.687Z"
   },
   {
    "duration": 12,
    "start_time": "2023-04-28T19:51:31.313Z"
   },
   {
    "duration": 1144,
    "start_time": "2023-04-28T20:08:33.324Z"
   },
   {
    "duration": 9,
    "start_time": "2023-04-28T20:08:47.432Z"
   },
   {
    "duration": 23,
    "start_time": "2023-04-28T20:08:51.287Z"
   },
   {
    "duration": 7,
    "start_time": "2023-04-28T20:09:31.078Z"
   },
   {
    "duration": 25,
    "start_time": "2023-04-28T20:09:33.256Z"
   },
   {
    "duration": 79,
    "start_time": "2023-04-28T20:17:38.601Z"
   },
   {
    "duration": 15,
    "start_time": "2023-04-28T20:22:37.940Z"
   },
   {
    "duration": 4,
    "start_time": "2023-04-28T20:24:01.062Z"
   },
   {
    "duration": 112,
    "start_time": "2023-04-28T20:24:01.068Z"
   },
   {
    "duration": 11,
    "start_time": "2023-04-28T20:24:01.182Z"
   },
   {
    "duration": 73,
    "start_time": "2023-04-28T20:24:01.196Z"
   },
   {
    "duration": 32,
    "start_time": "2023-04-28T20:24:01.273Z"
   },
   {
    "duration": 41,
    "start_time": "2023-04-28T20:24:01.307Z"
   },
   {
    "duration": 61,
    "start_time": "2023-04-28T20:24:01.350Z"
   },
   {
    "duration": 68,
    "start_time": "2023-04-28T20:24:01.413Z"
   },
   {
    "duration": 24,
    "start_time": "2023-04-28T20:24:01.483Z"
   },
   {
    "duration": 42,
    "start_time": "2023-04-28T20:24:01.509Z"
   },
   {
    "duration": 44,
    "start_time": "2023-04-28T20:24:01.554Z"
   },
   {
    "duration": 34,
    "start_time": "2023-04-28T20:24:01.599Z"
   },
   {
    "duration": 35,
    "start_time": "2023-04-28T20:24:01.635Z"
   },
   {
    "duration": 31,
    "start_time": "2023-04-28T20:24:01.673Z"
   },
   {
    "duration": 29,
    "start_time": "2023-04-28T20:24:01.706Z"
   },
   {
    "duration": 46,
    "start_time": "2023-04-28T20:24:01.738Z"
   },
   {
    "duration": 70,
    "start_time": "2023-04-28T20:24:01.786Z"
   },
   {
    "duration": 78,
    "start_time": "2023-04-28T20:24:01.859Z"
   },
   {
    "duration": 62,
    "start_time": "2023-04-28T20:24:01.939Z"
   },
   {
    "duration": 78,
    "start_time": "2023-04-28T20:24:02.004Z"
   },
   {
    "duration": 46,
    "start_time": "2023-04-28T20:24:02.084Z"
   },
   {
    "duration": 42,
    "start_time": "2023-04-28T20:24:02.132Z"
   },
   {
    "duration": 31,
    "start_time": "2023-04-28T20:24:02.176Z"
   },
   {
    "duration": 48,
    "start_time": "2023-04-28T20:24:02.209Z"
   },
   {
    "duration": 210,
    "start_time": "2023-04-28T20:24:02.259Z"
   },
   {
    "duration": 260,
    "start_time": "2023-04-28T20:24:02.472Z"
   },
   {
    "duration": 25,
    "start_time": "2023-04-28T20:24:02.735Z"
   },
   {
    "duration": 18,
    "start_time": "2023-04-28T20:24:02.762Z"
   },
   {
    "duration": 30,
    "start_time": "2023-04-28T20:24:02.786Z"
   },
   {
    "duration": 23,
    "start_time": "2023-04-28T20:24:02.818Z"
   },
   {
    "duration": 272,
    "start_time": "2023-04-28T20:24:02.844Z"
   },
   {
    "duration": 274,
    "start_time": "2023-04-28T20:24:03.119Z"
   },
   {
    "duration": 350,
    "start_time": "2023-04-28T20:24:03.395Z"
   },
   {
    "duration": 7,
    "start_time": "2023-04-28T20:24:03.747Z"
   },
   {
    "duration": 291,
    "start_time": "2023-04-28T20:24:03.756Z"
   },
   {
    "duration": 382,
    "start_time": "2023-04-28T20:24:04.049Z"
   },
   {
    "duration": 19,
    "start_time": "2023-04-28T20:24:04.440Z"
   },
   {
    "duration": 189,
    "start_time": "2023-04-28T20:24:04.461Z"
   },
   {
    "duration": 6,
    "start_time": "2023-04-28T20:24:04.652Z"
   },
   {
    "duration": 195,
    "start_time": "2023-04-28T20:24:04.659Z"
   },
   {
    "duration": 201,
    "start_time": "2023-04-28T20:24:04.856Z"
   },
   {
    "duration": 6,
    "start_time": "2023-04-28T20:24:05.059Z"
   },
   {
    "duration": 74,
    "start_time": "2023-04-28T20:24:05.067Z"
   },
   {
    "duration": 66,
    "start_time": "2023-04-28T20:24:05.143Z"
   },
   {
    "duration": 92,
    "start_time": "2023-04-28T20:24:05.211Z"
   },
   {
    "duration": 40,
    "start_time": "2023-04-28T20:24:05.305Z"
   },
   {
    "duration": 4,
    "start_time": "2023-04-28T20:25:43.411Z"
   },
   {
    "duration": 99,
    "start_time": "2023-04-28T20:25:43.422Z"
   },
   {
    "duration": 13,
    "start_time": "2023-04-28T20:25:43.525Z"
   },
   {
    "duration": 27,
    "start_time": "2023-04-28T20:25:43.541Z"
   },
   {
    "duration": 18,
    "start_time": "2023-04-28T20:25:43.570Z"
   },
   {
    "duration": 21,
    "start_time": "2023-04-28T20:25:43.591Z"
   },
   {
    "duration": 13,
    "start_time": "2023-04-28T20:25:43.614Z"
   },
   {
    "duration": 25,
    "start_time": "2023-04-28T20:25:43.643Z"
   },
   {
    "duration": 18,
    "start_time": "2023-04-28T20:25:43.670Z"
   },
   {
    "duration": 17,
    "start_time": "2023-04-28T20:25:43.690Z"
   },
   {
    "duration": 14,
    "start_time": "2023-04-28T20:25:43.710Z"
   },
   {
    "duration": 11,
    "start_time": "2023-04-28T20:25:43.742Z"
   },
   {
    "duration": 10,
    "start_time": "2023-04-28T20:25:43.755Z"
   },
   {
    "duration": 17,
    "start_time": "2023-04-28T20:25:43.768Z"
   },
   {
    "duration": 14,
    "start_time": "2023-04-28T20:25:43.790Z"
   },
   {
    "duration": 41,
    "start_time": "2023-04-28T20:25:43.806Z"
   },
   {
    "duration": 23,
    "start_time": "2023-04-28T20:25:43.850Z"
   },
   {
    "duration": 14,
    "start_time": "2023-04-28T20:25:43.876Z"
   },
   {
    "duration": 33,
    "start_time": "2023-04-28T20:25:43.893Z"
   },
   {
    "duration": 12,
    "start_time": "2023-04-28T20:25:43.929Z"
   },
   {
    "duration": 14,
    "start_time": "2023-04-28T20:25:43.944Z"
   },
   {
    "duration": 19,
    "start_time": "2023-04-28T20:25:43.961Z"
   },
   {
    "duration": 15,
    "start_time": "2023-04-28T20:25:43.983Z"
   },
   {
    "duration": 42,
    "start_time": "2023-04-28T20:25:44.001Z"
   },
   {
    "duration": 217,
    "start_time": "2023-04-28T20:25:44.046Z"
   },
   {
    "duration": 153,
    "start_time": "2023-04-28T20:25:44.264Z"
   },
   {
    "duration": 32,
    "start_time": "2023-04-28T20:25:44.420Z"
   },
   {
    "duration": 9,
    "start_time": "2023-04-28T20:25:44.454Z"
   },
   {
    "duration": 9,
    "start_time": "2023-04-28T20:25:44.465Z"
   },
   {
    "duration": 10,
    "start_time": "2023-04-28T20:25:44.477Z"
   },
   {
    "duration": 281,
    "start_time": "2023-04-28T20:25:44.490Z"
   },
   {
    "duration": 258,
    "start_time": "2023-04-28T20:25:44.774Z"
   },
   {
    "duration": 470,
    "start_time": "2023-04-28T20:25:45.034Z"
   },
   {
    "duration": 7,
    "start_time": "2023-04-28T20:25:45.506Z"
   },
   {
    "duration": 293,
    "start_time": "2023-04-28T20:25:45.515Z"
   },
   {
    "duration": 456,
    "start_time": "2023-04-28T20:25:45.810Z"
   },
   {
    "duration": 13,
    "start_time": "2023-04-28T20:25:46.268Z"
   },
   {
    "duration": 189,
    "start_time": "2023-04-28T20:25:46.283Z"
   },
   {
    "duration": 5,
    "start_time": "2023-04-28T20:25:46.474Z"
   },
   {
    "duration": 213,
    "start_time": "2023-04-28T20:25:46.481Z"
   },
   {
    "duration": 202,
    "start_time": "2023-04-28T20:25:46.697Z"
   },
   {
    "duration": 5,
    "start_time": "2023-04-28T20:25:46.905Z"
   },
   {
    "duration": 78,
    "start_time": "2023-04-28T20:25:46.912Z"
   },
   {
    "duration": 69,
    "start_time": "2023-04-28T20:25:46.992Z"
   },
   {
    "duration": 13,
    "start_time": "2023-04-28T20:25:47.063Z"
   },
   {
    "duration": 86,
    "start_time": "2023-04-28T20:25:47.078Z"
   },
   {
    "duration": 34,
    "start_time": "2023-04-28T20:25:47.166Z"
   },
   {
    "duration": 199,
    "start_time": "2023-04-28T20:25:47.211Z"
   },
   {
    "duration": 9,
    "start_time": "2023-04-28T20:25:47.412Z"
   },
   {
    "duration": 25,
    "start_time": "2023-04-28T20:25:47.441Z"
   },
   {
    "duration": 16,
    "start_time": "2023-04-28T20:25:47.468Z"
   },
   {
    "duration": 57,
    "start_time": "2023-04-28T20:25:47.486Z"
   },
   {
    "duration": 48,
    "start_time": "2023-04-28T20:25:47.545Z"
   },
   {
    "duration": 79,
    "start_time": "2023-04-28T20:25:47.595Z"
   },
   {
    "duration": 20,
    "start_time": "2023-04-28T20:25:47.676Z"
   },
   {
    "duration": 4,
    "start_time": "2023-04-28T20:28:54.482Z"
   },
   {
    "duration": 100,
    "start_time": "2023-04-28T20:28:54.489Z"
   },
   {
    "duration": 10,
    "start_time": "2023-04-28T20:28:54.591Z"
   },
   {
    "duration": 29,
    "start_time": "2023-04-28T20:28:54.603Z"
   },
   {
    "duration": 32,
    "start_time": "2023-04-28T20:28:54.635Z"
   },
   {
    "duration": 29,
    "start_time": "2023-04-28T20:28:54.669Z"
   },
   {
    "duration": 14,
    "start_time": "2023-04-28T20:28:54.700Z"
   },
   {
    "duration": 18,
    "start_time": "2023-04-28T20:28:54.716Z"
   },
   {
    "duration": 13,
    "start_time": "2023-04-28T20:28:54.737Z"
   },
   {
    "duration": 15,
    "start_time": "2023-04-28T20:28:54.752Z"
   },
   {
    "duration": 29,
    "start_time": "2023-04-28T20:28:54.769Z"
   },
   {
    "duration": 15,
    "start_time": "2023-04-28T20:28:54.800Z"
   },
   {
    "duration": 16,
    "start_time": "2023-04-28T20:28:54.818Z"
   },
   {
    "duration": 20,
    "start_time": "2023-04-28T20:28:54.836Z"
   },
   {
    "duration": 23,
    "start_time": "2023-04-28T20:28:54.858Z"
   },
   {
    "duration": 7,
    "start_time": "2023-04-28T20:28:54.884Z"
   },
   {
    "duration": 11,
    "start_time": "2023-04-28T20:28:54.893Z"
   },
   {
    "duration": 41,
    "start_time": "2023-04-28T20:28:54.906Z"
   },
   {
    "duration": 23,
    "start_time": "2023-04-28T20:28:54.949Z"
   },
   {
    "duration": 50,
    "start_time": "2023-04-28T20:28:54.974Z"
   },
   {
    "duration": 48,
    "start_time": "2023-04-28T20:28:55.026Z"
   },
   {
    "duration": 17,
    "start_time": "2023-04-28T20:28:55.076Z"
   },
   {
    "duration": 29,
    "start_time": "2023-04-28T20:28:55.095Z"
   },
   {
    "duration": 13,
    "start_time": "2023-04-28T20:28:55.128Z"
   },
   {
    "duration": 200,
    "start_time": "2023-04-28T20:28:55.144Z"
   },
   {
    "duration": 175,
    "start_time": "2023-04-28T20:28:55.346Z"
   },
   {
    "duration": 20,
    "start_time": "2023-04-28T20:28:55.523Z"
   },
   {
    "duration": 11,
    "start_time": "2023-04-28T20:28:55.546Z"
   },
   {
    "duration": 47,
    "start_time": "2023-04-28T20:28:55.560Z"
   },
   {
    "duration": 41,
    "start_time": "2023-04-28T20:28:55.609Z"
   },
   {
    "duration": 316,
    "start_time": "2023-04-28T20:28:55.651Z"
   },
   {
    "duration": 274,
    "start_time": "2023-04-28T20:28:55.970Z"
   },
   {
    "duration": 349,
    "start_time": "2023-04-28T20:28:56.246Z"
   },
   {
    "duration": 8,
    "start_time": "2023-04-28T20:28:56.598Z"
   },
   {
    "duration": 348,
    "start_time": "2023-04-28T20:28:56.608Z"
   },
   {
    "duration": 379,
    "start_time": "2023-04-28T20:28:56.958Z"
   },
   {
    "duration": 16,
    "start_time": "2023-04-28T20:28:57.341Z"
   },
   {
    "duration": 299,
    "start_time": "2023-04-28T20:28:57.359Z"
   },
   {
    "duration": 6,
    "start_time": "2023-04-28T20:28:57.661Z"
   },
   {
    "duration": 202,
    "start_time": "2023-04-28T20:28:57.670Z"
   },
   {
    "duration": 206,
    "start_time": "2023-04-28T20:28:57.875Z"
   },
   {
    "duration": 6,
    "start_time": "2023-04-28T20:28:58.084Z"
   },
   {
    "duration": 79,
    "start_time": "2023-04-28T20:28:58.092Z"
   },
   {
    "duration": 55,
    "start_time": "2023-04-28T20:28:58.173Z"
   },
   {
    "duration": 17,
    "start_time": "2023-04-28T20:28:58.230Z"
   },
   {
    "duration": 69,
    "start_time": "2023-04-28T20:28:58.249Z"
   },
   {
    "duration": 55,
    "start_time": "2023-04-28T20:28:58.320Z"
   },
   {
    "duration": 3,
    "start_time": "2023-04-28T20:30:27.360Z"
   },
   {
    "duration": 88,
    "start_time": "2023-04-28T20:30:27.366Z"
   },
   {
    "duration": 11,
    "start_time": "2023-04-28T20:30:27.456Z"
   },
   {
    "duration": 25,
    "start_time": "2023-04-28T20:30:27.470Z"
   },
   {
    "duration": 20,
    "start_time": "2023-04-28T20:30:27.497Z"
   },
   {
    "duration": 25,
    "start_time": "2023-04-28T20:30:27.519Z"
   },
   {
    "duration": 15,
    "start_time": "2023-04-28T20:30:27.546Z"
   },
   {
    "duration": 23,
    "start_time": "2023-04-28T20:30:27.563Z"
   },
   {
    "duration": 23,
    "start_time": "2023-04-28T20:30:27.589Z"
   },
   {
    "duration": 14,
    "start_time": "2023-04-28T20:30:27.614Z"
   },
   {
    "duration": 20,
    "start_time": "2023-04-28T20:30:27.630Z"
   },
   {
    "duration": 22,
    "start_time": "2023-04-28T20:30:27.652Z"
   },
   {
    "duration": 9,
    "start_time": "2023-04-28T20:30:27.676Z"
   },
   {
    "duration": 16,
    "start_time": "2023-04-28T20:30:27.687Z"
   },
   {
    "duration": 14,
    "start_time": "2023-04-28T20:30:27.705Z"
   },
   {
    "duration": 10,
    "start_time": "2023-04-28T20:30:27.721Z"
   },
   {
    "duration": 15,
    "start_time": "2023-04-28T20:30:27.733Z"
   },
   {
    "duration": 20,
    "start_time": "2023-04-28T20:30:27.751Z"
   },
   {
    "duration": 16,
    "start_time": "2023-04-28T20:30:27.773Z"
   },
   {
    "duration": 12,
    "start_time": "2023-04-28T20:30:27.791Z"
   },
   {
    "duration": 14,
    "start_time": "2023-04-28T20:30:27.805Z"
   },
   {
    "duration": 15,
    "start_time": "2023-04-28T20:30:27.840Z"
   },
   {
    "duration": 18,
    "start_time": "2023-04-28T20:30:27.857Z"
   },
   {
    "duration": 7,
    "start_time": "2023-04-28T20:30:27.879Z"
   },
   {
    "duration": 221,
    "start_time": "2023-04-28T20:30:27.888Z"
   },
   {
    "duration": 138,
    "start_time": "2023-04-28T20:30:28.111Z"
   },
   {
    "duration": 16,
    "start_time": "2023-04-28T20:30:28.251Z"
   },
   {
    "duration": 24,
    "start_time": "2023-04-28T20:30:28.269Z"
   },
   {
    "duration": 10,
    "start_time": "2023-04-28T20:30:28.295Z"
   },
   {
    "duration": 10,
    "start_time": "2023-04-28T20:30:28.307Z"
   },
   {
    "duration": 257,
    "start_time": "2023-04-28T20:30:28.319Z"
   },
   {
    "duration": 254,
    "start_time": "2023-04-28T20:30:28.579Z"
   },
   {
    "duration": 363,
    "start_time": "2023-04-28T20:30:28.840Z"
   },
   {
    "duration": 9,
    "start_time": "2023-04-28T20:30:29.206Z"
   },
   {
    "duration": 284,
    "start_time": "2023-04-28T20:30:29.218Z"
   },
   {
    "duration": 504,
    "start_time": "2023-04-28T20:30:29.504Z"
   },
   {
    "duration": 37,
    "start_time": "2023-04-28T20:30:30.010Z"
   },
   {
    "duration": 178,
    "start_time": "2023-04-28T20:30:30.049Z"
   },
   {
    "duration": 15,
    "start_time": "2023-04-28T20:30:30.229Z"
   },
   {
    "duration": 204,
    "start_time": "2023-04-28T20:30:30.247Z"
   },
   {
    "duration": 201,
    "start_time": "2023-04-28T20:30:30.454Z"
   },
   {
    "duration": 6,
    "start_time": "2023-04-28T20:30:30.657Z"
   },
   {
    "duration": 85,
    "start_time": "2023-04-28T20:30:30.665Z"
   },
   {
    "duration": 111,
    "start_time": "2023-04-28T20:30:30.753Z"
   },
   {
    "duration": 81,
    "start_time": "2023-04-28T20:30:30.866Z"
   },
   {
    "duration": 106,
    "start_time": "2023-04-28T20:30:30.949Z"
   },
   {
    "duration": 66,
    "start_time": "2023-04-28T20:30:31.057Z"
   },
   {
    "duration": 74,
    "start_time": "2023-04-28T20:30:31.141Z"
   },
   {
    "duration": 171,
    "start_time": "2023-04-28T20:30:31.218Z"
   },
   {
    "duration": 8,
    "start_time": "2023-04-28T20:30:31.391Z"
   },
   {
    "duration": 41,
    "start_time": "2023-04-28T20:30:31.401Z"
   },
   {
    "duration": 14,
    "start_time": "2023-04-28T20:30:31.445Z"
   },
   {
    "duration": 15,
    "start_time": "2023-04-28T20:30:31.461Z"
   },
   {
    "duration": 81,
    "start_time": "2023-04-28T20:30:31.478Z"
   },
   {
    "duration": 45,
    "start_time": "2023-04-28T20:30:31.562Z"
   },
   {
    "duration": 28,
    "start_time": "2023-04-28T20:30:31.609Z"
   },
   {
    "duration": 79,
    "start_time": "2023-04-28T20:35:09.535Z"
   },
   {
    "duration": 73,
    "start_time": "2023-04-28T20:35:32.065Z"
   },
   {
    "duration": 7,
    "start_time": "2023-04-28T20:35:36.621Z"
   },
   {
    "duration": 19,
    "start_time": "2023-04-28T20:35:39.664Z"
   },
   {
    "duration": 15,
    "start_time": "2023-04-28T20:36:01.762Z"
   },
   {
    "duration": 16,
    "start_time": "2023-04-28T20:36:24.918Z"
   },
   {
    "duration": 27,
    "start_time": "2023-04-28T20:37:37.657Z"
   },
   {
    "duration": 13,
    "start_time": "2023-04-28T20:38:28.918Z"
   },
   {
    "duration": 22,
    "start_time": "2023-04-28T20:39:16.919Z"
   },
   {
    "duration": 30,
    "start_time": "2023-04-28T20:39:36.648Z"
   },
   {
    "duration": 9,
    "start_time": "2023-04-28T20:43:19.651Z"
   },
   {
    "duration": 20,
    "start_time": "2023-04-28T20:43:21.757Z"
   },
   {
    "duration": 11,
    "start_time": "2023-04-28T20:43:43.931Z"
   },
   {
    "duration": 3,
    "start_time": "2023-04-28T20:44:17.267Z"
   },
   {
    "duration": 84,
    "start_time": "2023-04-28T20:44:17.272Z"
   },
   {
    "duration": 10,
    "start_time": "2023-04-28T20:44:17.358Z"
   },
   {
    "duration": 17,
    "start_time": "2023-04-28T20:44:17.370Z"
   },
   {
    "duration": 11,
    "start_time": "2023-04-28T20:44:17.390Z"
   },
   {
    "duration": 42,
    "start_time": "2023-04-28T20:44:17.402Z"
   },
   {
    "duration": 13,
    "start_time": "2023-04-28T20:44:17.447Z"
   },
   {
    "duration": 14,
    "start_time": "2023-04-28T20:44:17.462Z"
   },
   {
    "duration": 7,
    "start_time": "2023-04-28T20:44:17.478Z"
   },
   {
    "duration": 11,
    "start_time": "2023-04-28T20:44:17.487Z"
   },
   {
    "duration": 40,
    "start_time": "2023-04-28T20:44:17.502Z"
   },
   {
    "duration": 8,
    "start_time": "2023-04-28T20:44:17.544Z"
   },
   {
    "duration": 7,
    "start_time": "2023-04-28T20:44:17.554Z"
   },
   {
    "duration": 8,
    "start_time": "2023-04-28T20:44:17.562Z"
   },
   {
    "duration": 7,
    "start_time": "2023-04-28T20:44:17.572Z"
   },
   {
    "duration": 7,
    "start_time": "2023-04-28T20:44:17.580Z"
   },
   {
    "duration": 53,
    "start_time": "2023-04-28T20:44:17.589Z"
   },
   {
    "duration": 8,
    "start_time": "2023-04-28T20:44:17.644Z"
   },
   {
    "duration": 12,
    "start_time": "2023-04-28T20:44:17.654Z"
   },
   {
    "duration": 7,
    "start_time": "2023-04-28T20:44:17.668Z"
   },
   {
    "duration": 10,
    "start_time": "2023-04-28T20:44:17.677Z"
   },
   {
    "duration": 60,
    "start_time": "2023-04-28T20:44:17.689Z"
   },
   {
    "duration": 17,
    "start_time": "2023-04-28T20:44:17.751Z"
   },
   {
    "duration": 11,
    "start_time": "2023-04-28T20:44:17.770Z"
   },
   {
    "duration": 205,
    "start_time": "2023-04-28T20:44:17.783Z"
   },
   {
    "duration": 269,
    "start_time": "2023-04-28T20:44:17.990Z"
   },
   {
    "duration": 16,
    "start_time": "2023-04-28T20:44:18.261Z"
   },
   {
    "duration": 15,
    "start_time": "2023-04-28T20:44:18.279Z"
   },
   {
    "duration": 6,
    "start_time": "2023-04-28T20:44:18.299Z"
   },
   {
    "duration": 34,
    "start_time": "2023-04-28T20:44:18.307Z"
   },
   {
    "duration": 241,
    "start_time": "2023-04-28T20:44:18.343Z"
   },
   {
    "duration": 250,
    "start_time": "2023-04-28T20:44:18.586Z"
   },
   {
    "duration": 336,
    "start_time": "2023-04-28T20:44:18.842Z"
   },
   {
    "duration": 7,
    "start_time": "2023-04-28T20:44:19.180Z"
   },
   {
    "duration": 273,
    "start_time": "2023-04-28T20:44:19.188Z"
   },
   {
    "duration": 367,
    "start_time": "2023-04-28T20:44:19.463Z"
   },
   {
    "duration": 18,
    "start_time": "2023-04-28T20:44:19.832Z"
   },
   {
    "duration": 189,
    "start_time": "2023-04-28T20:44:19.852Z"
   },
   {
    "duration": 5,
    "start_time": "2023-04-28T20:44:20.043Z"
   },
   {
    "duration": 194,
    "start_time": "2023-04-28T20:44:20.050Z"
   },
   {
    "duration": 190,
    "start_time": "2023-04-28T20:44:20.246Z"
   },
   {
    "duration": 6,
    "start_time": "2023-04-28T20:44:20.440Z"
   },
   {
    "duration": 28,
    "start_time": "2023-04-28T20:44:20.448Z"
   },
   {
    "duration": 10,
    "start_time": "2023-04-28T20:44:20.478Z"
   },
   {
    "duration": 24,
    "start_time": "2023-04-28T20:44:20.490Z"
   },
   {
    "duration": 38,
    "start_time": "2023-04-28T20:44:20.516Z"
   },
   {
    "duration": 36,
    "start_time": "2023-04-28T20:44:20.556Z"
   },
   {
    "duration": 206,
    "start_time": "2023-04-28T20:44:20.594Z"
   },
   {
    "duration": 9,
    "start_time": "2023-04-28T20:44:20.802Z"
   },
   {
    "duration": 41,
    "start_time": "2023-04-28T20:44:20.812Z"
   },
   {
    "duration": 14,
    "start_time": "2023-04-28T20:44:20.855Z"
   },
   {
    "duration": 13,
    "start_time": "2023-04-28T20:44:20.871Z"
   },
   {
    "duration": 10,
    "start_time": "2023-04-28T20:44:20.886Z"
   },
   {
    "duration": 67,
    "start_time": "2023-04-28T20:44:20.898Z"
   },
   {
    "duration": 18,
    "start_time": "2023-04-28T20:44:20.967Z"
   },
   {
    "duration": 25,
    "start_time": "2023-04-28T20:53:52.442Z"
   },
   {
    "duration": 20,
    "start_time": "2023-04-28T21:04:39.618Z"
   },
   {
    "duration": 18,
    "start_time": "2023-04-28T21:11:11.059Z"
   },
   {
    "duration": 21,
    "start_time": "2023-04-28T21:12:05.650Z"
   },
   {
    "duration": 57,
    "start_time": "2023-04-28T21:15:06.752Z"
   },
   {
    "duration": 3,
    "start_time": "2023-04-28T21:20:05.318Z"
   },
   {
    "duration": 109,
    "start_time": "2023-04-28T21:20:05.323Z"
   },
   {
    "duration": 10,
    "start_time": "2023-04-28T21:20:05.435Z"
   },
   {
    "duration": 79,
    "start_time": "2023-04-28T21:20:05.447Z"
   },
   {
    "duration": 60,
    "start_time": "2023-04-28T21:20:05.528Z"
   },
   {
    "duration": 48,
    "start_time": "2023-04-28T21:20:05.590Z"
   },
   {
    "duration": 29,
    "start_time": "2023-04-28T21:20:05.640Z"
   },
   {
    "duration": 70,
    "start_time": "2023-04-28T21:20:05.671Z"
   },
   {
    "duration": 50,
    "start_time": "2023-04-28T21:20:05.743Z"
   },
   {
    "duration": 33,
    "start_time": "2023-04-28T21:20:05.795Z"
   },
   {
    "duration": 26,
    "start_time": "2023-04-28T21:20:05.831Z"
   },
   {
    "duration": 27,
    "start_time": "2023-04-28T21:20:05.859Z"
   },
   {
    "duration": 25,
    "start_time": "2023-04-28T21:20:05.889Z"
   },
   {
    "duration": 33,
    "start_time": "2023-04-28T21:20:05.916Z"
   },
   {
    "duration": 24,
    "start_time": "2023-04-28T21:20:05.951Z"
   },
   {
    "duration": 20,
    "start_time": "2023-04-28T21:20:05.978Z"
   },
   {
    "duration": 16,
    "start_time": "2023-04-28T21:20:05.999Z"
   },
   {
    "duration": 22,
    "start_time": "2023-04-28T21:20:06.017Z"
   },
   {
    "duration": 15,
    "start_time": "2023-04-28T21:20:06.041Z"
   },
   {
    "duration": 10,
    "start_time": "2023-04-28T21:20:06.058Z"
   },
   {
    "duration": 11,
    "start_time": "2023-04-28T21:20:06.070Z"
   },
   {
    "duration": 14,
    "start_time": "2023-04-28T21:20:06.083Z"
   },
   {
    "duration": 48,
    "start_time": "2023-04-28T21:20:06.098Z"
   },
   {
    "duration": 9,
    "start_time": "2023-04-28T21:20:06.148Z"
   },
   {
    "duration": 203,
    "start_time": "2023-04-28T21:20:06.159Z"
   },
   {
    "duration": 140,
    "start_time": "2023-04-28T21:20:06.364Z"
   },
   {
    "duration": 14,
    "start_time": "2023-04-28T21:20:06.506Z"
   },
   {
    "duration": 43,
    "start_time": "2023-04-28T21:20:06.522Z"
   },
   {
    "duration": 9,
    "start_time": "2023-04-28T21:20:06.570Z"
   },
   {
    "duration": 17,
    "start_time": "2023-04-28T21:20:06.581Z"
   },
   {
    "duration": 278,
    "start_time": "2023-04-28T21:20:06.600Z"
   },
   {
    "duration": 250,
    "start_time": "2023-04-28T21:20:06.879Z"
   },
   {
    "duration": 356,
    "start_time": "2023-04-28T21:20:07.131Z"
   },
   {
    "duration": 8,
    "start_time": "2023-04-28T21:20:07.489Z"
   },
   {
    "duration": 388,
    "start_time": "2023-04-28T21:20:07.499Z"
   },
   {
    "duration": 364,
    "start_time": "2023-04-28T21:20:07.889Z"
   },
   {
    "duration": 14,
    "start_time": "2023-04-28T21:20:08.255Z"
   },
   {
    "duration": 180,
    "start_time": "2023-04-28T21:20:08.270Z"
   },
   {
    "duration": 5,
    "start_time": "2023-04-28T21:20:08.452Z"
   },
   {
    "duration": 197,
    "start_time": "2023-04-28T21:20:08.459Z"
   },
   {
    "duration": 192,
    "start_time": "2023-04-28T21:20:08.658Z"
   },
   {
    "duration": 5,
    "start_time": "2023-04-28T21:20:08.852Z"
   },
   {
    "duration": 76,
    "start_time": "2023-04-28T21:20:08.870Z"
   },
   {
    "duration": 173,
    "start_time": "2023-04-28T21:20:08.948Z"
   },
   {
    "duration": 25,
    "start_time": "2023-04-28T21:20:09.123Z"
   },
   {
    "duration": 41,
    "start_time": "2023-04-28T21:20:09.149Z"
   },
   {
    "duration": 15,
    "start_time": "2023-04-28T21:20:09.192Z"
   },
   {
    "duration": 37,
    "start_time": "2023-04-28T21:20:09.209Z"
   },
   {
    "duration": 47,
    "start_time": "2023-04-28T21:20:09.249Z"
   },
   {
    "duration": 69,
    "start_time": "2023-04-28T21:20:09.298Z"
   },
   {
    "duration": 19,
    "start_time": "2023-04-28T21:20:09.369Z"
   },
   {
    "duration": 12,
    "start_time": "2023-04-28T21:28:28.020Z"
   },
   {
    "duration": 12,
    "start_time": "2023-04-28T21:28:37.970Z"
   },
   {
    "duration": 10,
    "start_time": "2023-04-28T21:30:21.405Z"
   },
   {
    "duration": 10,
    "start_time": "2023-04-28T21:30:49.256Z"
   },
   {
    "duration": 11,
    "start_time": "2023-04-28T21:30:58.903Z"
   },
   {
    "duration": 9,
    "start_time": "2023-04-28T21:35:38.158Z"
   },
   {
    "duration": 15,
    "start_time": "2023-04-28T21:37:02.280Z"
   },
   {
    "duration": 16,
    "start_time": "2023-04-28T21:37:52.556Z"
   },
   {
    "duration": 13,
    "start_time": "2023-04-28T21:38:02.700Z"
   },
   {
    "duration": 23,
    "start_time": "2023-04-28T21:38:30.839Z"
   },
   {
    "duration": 27,
    "start_time": "2023-04-28T21:38:46.041Z"
   },
   {
    "duration": 9,
    "start_time": "2023-04-28T21:40:03.019Z"
   },
   {
    "duration": 15,
    "start_time": "2023-04-28T21:41:53.676Z"
   },
   {
    "duration": 17,
    "start_time": "2023-04-28T21:42:09.544Z"
   },
   {
    "duration": 14,
    "start_time": "2023-04-28T21:42:22.949Z"
   },
   {
    "duration": 11,
    "start_time": "2023-04-28T21:46:12.811Z"
   },
   {
    "duration": 15,
    "start_time": "2023-04-28T21:47:00.054Z"
   },
   {
    "duration": 5,
    "start_time": "2023-04-28T21:47:20.434Z"
   },
   {
    "duration": 10,
    "start_time": "2023-04-28T21:48:01.620Z"
   },
   {
    "duration": 19,
    "start_time": "2023-04-28T21:51:00.986Z"
   },
   {
    "duration": 8,
    "start_time": "2023-04-28T21:51:06.001Z"
   },
   {
    "duration": 10,
    "start_time": "2023-04-28T21:51:10.468Z"
   },
   {
    "duration": 94,
    "start_time": "2023-04-28T21:52:34.785Z"
   },
   {
    "duration": 19,
    "start_time": "2023-04-28T21:52:42.300Z"
   },
   {
    "duration": 11,
    "start_time": "2023-04-28T21:53:06.962Z"
   },
   {
    "duration": 11,
    "start_time": "2023-04-28T21:53:14.921Z"
   },
   {
    "duration": 18,
    "start_time": "2023-04-28T21:54:55.465Z"
   },
   {
    "duration": 815,
    "start_time": "2023-04-28T21:56:55.232Z"
   },
   {
    "duration": 964,
    "start_time": "2023-04-28T21:57:45.948Z"
   },
   {
    "duration": 857,
    "start_time": "2023-04-28T21:57:47.056Z"
   },
   {
    "duration": 10,
    "start_time": "2023-04-28T21:58:03.887Z"
   },
   {
    "duration": 8,
    "start_time": "2023-04-28T21:58:42.803Z"
   },
   {
    "duration": 10,
    "start_time": "2023-04-28T21:58:44.346Z"
   },
   {
    "duration": 10,
    "start_time": "2023-04-28T21:58:47.930Z"
   },
   {
    "duration": 12,
    "start_time": "2023-04-28T21:59:01.001Z"
   },
   {
    "duration": 10,
    "start_time": "2023-04-28T21:59:05.008Z"
   },
   {
    "duration": 10,
    "start_time": "2023-04-28T21:59:21.880Z"
   },
   {
    "duration": 14,
    "start_time": "2023-04-28T22:12:35.546Z"
   },
   {
    "duration": 298,
    "start_time": "2023-04-28T22:12:40.786Z"
   },
   {
    "duration": 84,
    "start_time": "2023-04-28T22:12:47.501Z"
   },
   {
    "duration": 275,
    "start_time": "2023-04-28T22:12:50.308Z"
   },
   {
    "duration": 272,
    "start_time": "2023-04-28T22:13:20.601Z"
   },
   {
    "duration": 436,
    "start_time": "2023-04-28T22:14:03.420Z"
   },
   {
    "duration": 428,
    "start_time": "2023-04-28T22:16:01.642Z"
   },
   {
    "duration": 3,
    "start_time": "2023-04-28T22:16:23.869Z"
   },
   {
    "duration": 85,
    "start_time": "2023-04-28T22:16:23.875Z"
   },
   {
    "duration": 10,
    "start_time": "2023-04-28T22:16:23.962Z"
   },
   {
    "duration": 15,
    "start_time": "2023-04-28T22:16:23.974Z"
   },
   {
    "duration": 15,
    "start_time": "2023-04-28T22:16:23.991Z"
   },
   {
    "duration": 13,
    "start_time": "2023-04-28T22:16:24.009Z"
   },
   {
    "duration": 9,
    "start_time": "2023-04-28T22:16:24.041Z"
   },
   {
    "duration": 21,
    "start_time": "2023-04-28T22:16:24.052Z"
   },
   {
    "duration": 6,
    "start_time": "2023-04-28T22:16:24.078Z"
   },
   {
    "duration": 22,
    "start_time": "2023-04-28T22:16:24.086Z"
   },
   {
    "duration": 36,
    "start_time": "2023-04-28T22:16:24.110Z"
   },
   {
    "duration": 9,
    "start_time": "2023-04-28T22:16:24.147Z"
   },
   {
    "duration": 8,
    "start_time": "2023-04-28T22:16:24.158Z"
   },
   {
    "duration": 14,
    "start_time": "2023-04-28T22:16:24.168Z"
   },
   {
    "duration": 8,
    "start_time": "2023-04-28T22:16:24.184Z"
   },
   {
    "duration": 8,
    "start_time": "2023-04-28T22:16:24.194Z"
   },
   {
    "duration": 50,
    "start_time": "2023-04-28T22:16:24.204Z"
   },
   {
    "duration": 13,
    "start_time": "2023-04-28T22:16:24.256Z"
   },
   {
    "duration": 9,
    "start_time": "2023-04-28T22:16:24.270Z"
   },
   {
    "duration": 20,
    "start_time": "2023-04-28T22:16:24.281Z"
   },
   {
    "duration": 17,
    "start_time": "2023-04-28T22:16:24.303Z"
   },
   {
    "duration": 24,
    "start_time": "2023-04-28T22:16:24.322Z"
   },
   {
    "duration": 304,
    "start_time": "2023-04-28T22:16:24.348Z"
   },
   {
    "duration": 15,
    "start_time": "2023-04-28T22:16:24.656Z"
   },
   {
    "duration": 15,
    "start_time": "2023-04-28T22:16:24.672Z"
   },
   {
    "duration": 13,
    "start_time": "2023-04-28T22:16:24.689Z"
   },
   {
    "duration": 207,
    "start_time": "2023-04-28T22:16:24.704Z"
   },
   {
    "duration": 146,
    "start_time": "2023-04-28T22:16:24.914Z"
   },
   {
    "duration": 15,
    "start_time": "2023-04-28T22:16:25.063Z"
   },
   {
    "duration": 12,
    "start_time": "2023-04-28T22:16:25.080Z"
   },
   {
    "duration": 9,
    "start_time": "2023-04-28T22:16:25.094Z"
   },
   {
    "duration": 9,
    "start_time": "2023-04-28T22:16:25.105Z"
   },
   {
    "duration": 275,
    "start_time": "2023-04-28T22:16:25.116Z"
   },
   {
    "duration": 249,
    "start_time": "2023-04-28T22:16:25.393Z"
   },
   {
    "duration": 397,
    "start_time": "2023-04-28T22:16:25.644Z"
   },
   {
    "duration": 8,
    "start_time": "2023-04-28T22:16:26.044Z"
   },
   {
    "duration": 279,
    "start_time": "2023-04-28T22:16:26.055Z"
   },
   {
    "duration": 395,
    "start_time": "2023-04-28T22:16:26.336Z"
   },
   {
    "duration": 15,
    "start_time": "2023-04-28T22:16:26.740Z"
   },
   {
    "duration": 184,
    "start_time": "2023-04-28T22:16:26.757Z"
   },
   {
    "duration": 6,
    "start_time": "2023-04-28T22:16:26.943Z"
   },
   {
    "duration": 200,
    "start_time": "2023-04-28T22:16:26.951Z"
   },
   {
    "duration": 200,
    "start_time": "2023-04-28T22:16:27.154Z"
   },
   {
    "duration": 4,
    "start_time": "2023-04-28T22:16:27.356Z"
   },
   {
    "duration": 80,
    "start_time": "2023-04-28T22:16:27.362Z"
   },
   {
    "duration": 167,
    "start_time": "2023-04-28T22:16:27.445Z"
   },
   {
    "duration": 11,
    "start_time": "2023-04-28T22:16:27.614Z"
   },
   {
    "duration": 25,
    "start_time": "2023-04-28T22:16:27.642Z"
   },
   {
    "duration": 15,
    "start_time": "2023-04-28T22:16:27.669Z"
   },
   {
    "duration": 12,
    "start_time": "2023-04-28T22:16:27.687Z"
   },
   {
    "duration": 46,
    "start_time": "2023-04-28T22:16:27.700Z"
   },
   {
    "duration": 24,
    "start_time": "2023-04-28T22:16:27.748Z"
   },
   {
    "duration": 17,
    "start_time": "2023-04-28T22:16:27.774Z"
   },
   {
    "duration": 307,
    "start_time": "2023-04-28T22:17:36.448Z"
   },
   {
    "duration": 396,
    "start_time": "2023-04-28T22:17:42.176Z"
   },
   {
    "duration": 215,
    "start_time": "2023-04-28T22:23:15.904Z"
   },
   {
    "duration": 20,
    "start_time": "2023-04-28T22:24:47.534Z"
   },
   {
    "duration": 8,
    "start_time": "2023-04-28T22:25:16.400Z"
   },
   {
    "duration": 12,
    "start_time": "2023-04-28T22:25:43.911Z"
   },
   {
    "duration": 193,
    "start_time": "2023-04-28T22:25:53.151Z"
   },
   {
    "duration": 72,
    "start_time": "2023-04-28T22:27:46.350Z"
   },
   {
    "duration": 12,
    "start_time": "2023-04-28T22:27:49.367Z"
   },
   {
    "duration": 13,
    "start_time": "2023-04-28T22:28:04.382Z"
   },
   {
    "duration": 12,
    "start_time": "2023-04-28T22:28:17.173Z"
   },
   {
    "duration": 208,
    "start_time": "2023-04-28T22:29:08.133Z"
   },
   {
    "duration": 16,
    "start_time": "2023-04-28T22:29:22.508Z"
   },
   {
    "duration": 19,
    "start_time": "2023-04-28T22:29:27.748Z"
   },
   {
    "duration": 4,
    "start_time": "2023-04-28T22:29:42.001Z"
   },
   {
    "duration": 88,
    "start_time": "2023-04-28T22:29:42.008Z"
   },
   {
    "duration": 10,
    "start_time": "2023-04-28T22:29:42.099Z"
   },
   {
    "duration": 16,
    "start_time": "2023-04-28T22:29:42.112Z"
   },
   {
    "duration": 14,
    "start_time": "2023-04-28T22:29:42.132Z"
   },
   {
    "duration": 17,
    "start_time": "2023-04-28T22:29:42.148Z"
   },
   {
    "duration": 13,
    "start_time": "2023-04-28T22:29:42.168Z"
   },
   {
    "duration": 16,
    "start_time": "2023-04-28T22:29:42.183Z"
   },
   {
    "duration": 10,
    "start_time": "2023-04-28T22:29:42.201Z"
   },
   {
    "duration": 35,
    "start_time": "2023-04-28T22:29:42.213Z"
   },
   {
    "duration": 10,
    "start_time": "2023-04-28T22:29:42.250Z"
   },
   {
    "duration": 10,
    "start_time": "2023-04-28T22:29:42.262Z"
   },
   {
    "duration": 7,
    "start_time": "2023-04-28T22:29:42.274Z"
   },
   {
    "duration": 10,
    "start_time": "2023-04-28T22:29:42.284Z"
   },
   {
    "duration": 47,
    "start_time": "2023-04-28T22:29:42.296Z"
   },
   {
    "duration": 8,
    "start_time": "2023-04-28T22:29:42.345Z"
   },
   {
    "duration": 11,
    "start_time": "2023-04-28T22:29:42.356Z"
   },
   {
    "duration": 8,
    "start_time": "2023-04-28T22:29:42.370Z"
   },
   {
    "duration": 21,
    "start_time": "2023-04-28T22:29:42.379Z"
   },
   {
    "duration": 17,
    "start_time": "2023-04-28T22:29:42.402Z"
   },
   {
    "duration": 9,
    "start_time": "2023-04-28T22:29:42.442Z"
   },
   {
    "duration": 18,
    "start_time": "2023-04-28T22:29:42.453Z"
   },
   {
    "duration": 214,
    "start_time": "2023-04-28T22:29:42.472Z"
   },
   {
    "duration": 13,
    "start_time": "2023-04-28T22:31:01.461Z"
   },
   {
    "duration": 20,
    "start_time": "2023-04-28T22:31:06.956Z"
   },
   {
    "duration": 8,
    "start_time": "2023-04-28T22:31:43.763Z"
   },
   {
    "duration": 7,
    "start_time": "2023-04-28T22:31:45.388Z"
   },
   {
    "duration": 6,
    "start_time": "2023-04-28T22:31:48.955Z"
   },
   {
    "duration": 15,
    "start_time": "2023-04-28T22:32:05.284Z"
   },
   {
    "duration": 6,
    "start_time": "2023-04-28T22:33:41.948Z"
   },
   {
    "duration": 13,
    "start_time": "2023-04-28T22:33:50.211Z"
   },
   {
    "duration": 213,
    "start_time": "2023-04-28T22:34:12.948Z"
   },
   {
    "duration": 15,
    "start_time": "2023-04-28T22:34:31.269Z"
   },
   {
    "duration": 214,
    "start_time": "2023-04-28T22:35:32.179Z"
   },
   {
    "duration": 244,
    "start_time": "2023-04-28T22:35:50.563Z"
   },
   {
    "duration": 257,
    "start_time": "2023-04-28T22:36:03.819Z"
   },
   {
    "duration": 246,
    "start_time": "2023-04-28T22:36:15.276Z"
   },
   {
    "duration": 250,
    "start_time": "2023-04-28T22:36:40.702Z"
   },
   {
    "duration": 282,
    "start_time": "2023-04-28T22:36:51.881Z"
   },
   {
    "duration": 14,
    "start_time": "2023-04-28T22:40:05.003Z"
   },
   {
    "duration": 298,
    "start_time": "2023-04-28T22:40:17.474Z"
   },
   {
    "duration": 4,
    "start_time": "2023-04-28T22:54:20.072Z"
   },
   {
    "duration": 94,
    "start_time": "2023-04-28T22:54:20.079Z"
   },
   {
    "duration": 12,
    "start_time": "2023-04-28T22:54:20.175Z"
   },
   {
    "duration": 18,
    "start_time": "2023-04-28T22:54:20.190Z"
   },
   {
    "duration": 32,
    "start_time": "2023-04-28T22:54:20.210Z"
   },
   {
    "duration": 19,
    "start_time": "2023-04-28T22:54:20.245Z"
   },
   {
    "duration": 19,
    "start_time": "2023-04-28T22:54:20.267Z"
   },
   {
    "duration": 26,
    "start_time": "2023-04-28T22:54:20.288Z"
   },
   {
    "duration": 6,
    "start_time": "2023-04-28T22:54:20.344Z"
   },
   {
    "duration": 16,
    "start_time": "2023-04-28T22:54:20.353Z"
   },
   {
    "duration": 19,
    "start_time": "2023-04-28T22:54:20.371Z"
   },
   {
    "duration": 206,
    "start_time": "2023-04-28T22:54:20.392Z"
   },
   {
    "duration": 13,
    "start_time": "2023-04-28T22:54:20.601Z"
   },
   {
    "duration": 30,
    "start_time": "2023-04-28T22:54:20.617Z"
   },
   {
    "duration": 27,
    "start_time": "2023-04-28T22:54:20.650Z"
   },
   {
    "duration": 15,
    "start_time": "2023-04-28T22:54:20.679Z"
   },
   {
    "duration": 11,
    "start_time": "2023-04-28T22:54:20.697Z"
   },
   {
    "duration": 8,
    "start_time": "2023-04-28T22:54:20.710Z"
   },
   {
    "duration": 24,
    "start_time": "2023-04-28T22:54:20.721Z"
   },
   {
    "duration": 18,
    "start_time": "2023-04-28T22:54:20.747Z"
   },
   {
    "duration": 14,
    "start_time": "2023-04-28T22:54:20.767Z"
   },
   {
    "duration": 15,
    "start_time": "2023-04-28T22:54:20.783Z"
   },
   {
    "duration": 350,
    "start_time": "2023-04-28T22:54:20.800Z"
   },
   {
    "duration": 19,
    "start_time": "2023-04-28T22:54:21.157Z"
   },
   {
    "duration": 19,
    "start_time": "2023-04-28T22:54:21.178Z"
   },
   {
    "duration": 48,
    "start_time": "2023-04-28T22:54:21.199Z"
   },
   {
    "duration": 234,
    "start_time": "2023-04-28T22:54:21.250Z"
   },
   {
    "duration": 167,
    "start_time": "2023-04-28T22:54:21.486Z"
   },
   {
    "duration": 17,
    "start_time": "2023-04-28T22:54:21.655Z"
   },
   {
    "duration": 17,
    "start_time": "2023-04-28T22:54:21.675Z"
   },
   {
    "duration": 12,
    "start_time": "2023-04-28T22:54:21.695Z"
   },
   {
    "duration": 33,
    "start_time": "2023-04-28T22:54:21.710Z"
   },
   {
    "duration": 257,
    "start_time": "2023-04-28T22:54:21.745Z"
   },
   {
    "duration": 275,
    "start_time": "2023-04-28T22:54:22.004Z"
   },
   {
    "duration": 328,
    "start_time": "2023-04-28T22:54:22.281Z"
   },
   {
    "duration": 7,
    "start_time": "2023-04-28T22:54:22.612Z"
   },
   {
    "duration": 284,
    "start_time": "2023-04-28T22:54:22.621Z"
   },
   {
    "duration": 420,
    "start_time": "2023-04-28T22:54:22.907Z"
   },
   {
    "duration": 23,
    "start_time": "2023-04-28T22:54:23.329Z"
   },
   {
    "duration": 201,
    "start_time": "2023-04-28T22:54:23.354Z"
   },
   {
    "duration": 6,
    "start_time": "2023-04-28T22:54:23.558Z"
   },
   {
    "duration": 205,
    "start_time": "2023-04-28T22:54:23.566Z"
   },
   {
    "duration": 196,
    "start_time": "2023-04-28T22:54:23.773Z"
   },
   {
    "duration": 5,
    "start_time": "2023-04-28T22:54:23.972Z"
   },
   {
    "duration": 93,
    "start_time": "2023-04-28T22:54:23.980Z"
   },
   {
    "duration": 197,
    "start_time": "2023-04-28T22:54:24.075Z"
   },
   {
    "duration": 9,
    "start_time": "2023-04-28T22:54:24.275Z"
   },
   {
    "duration": 38,
    "start_time": "2023-04-28T22:54:24.286Z"
   },
   {
    "duration": 26,
    "start_time": "2023-04-28T22:54:24.326Z"
   },
   {
    "duration": 14,
    "start_time": "2023-04-28T22:54:24.354Z"
   },
   {
    "duration": 15,
    "start_time": "2023-04-28T22:54:24.372Z"
   },
   {
    "duration": 70,
    "start_time": "2023-04-28T22:54:24.390Z"
   },
   {
    "duration": 22,
    "start_time": "2023-04-28T22:54:24.463Z"
   },
   {
    "duration": 1632,
    "start_time": "2023-04-29T09:24:26.455Z"
   },
   {
    "duration": 255,
    "start_time": "2023-04-29T09:24:28.090Z"
   },
   {
    "duration": 16,
    "start_time": "2023-04-29T09:24:28.347Z"
   },
   {
    "duration": 15,
    "start_time": "2023-04-29T09:24:28.367Z"
   },
   {
    "duration": 29,
    "start_time": "2023-04-29T09:24:28.384Z"
   },
   {
    "duration": 18,
    "start_time": "2023-04-29T09:24:28.415Z"
   },
   {
    "duration": 22,
    "start_time": "2023-04-29T09:24:28.435Z"
   },
   {
    "duration": 15,
    "start_time": "2023-04-29T09:24:28.459Z"
   },
   {
    "duration": 9,
    "start_time": "2023-04-29T09:24:28.476Z"
   },
   {
    "duration": 14,
    "start_time": "2023-04-29T09:24:28.488Z"
   },
   {
    "duration": 12,
    "start_time": "2023-04-29T09:24:28.503Z"
   },
   {
    "duration": 6,
    "start_time": "2023-04-29T09:24:28.517Z"
   },
   {
    "duration": 20,
    "start_time": "2023-04-29T09:24:28.524Z"
   },
   {
    "duration": 11,
    "start_time": "2023-04-29T09:24:28.546Z"
   },
   {
    "duration": 12,
    "start_time": "2023-04-29T09:24:28.559Z"
   },
   {
    "duration": 10,
    "start_time": "2023-04-29T09:24:28.572Z"
   },
   {
    "duration": 9,
    "start_time": "2023-04-29T09:24:28.584Z"
   },
   {
    "duration": 6,
    "start_time": "2023-04-29T09:24:28.595Z"
   },
   {
    "duration": 14,
    "start_time": "2023-04-29T09:24:28.602Z"
   },
   {
    "duration": 17,
    "start_time": "2023-04-29T09:24:28.618Z"
   },
   {
    "duration": 8,
    "start_time": "2023-04-29T09:24:28.638Z"
   },
   {
    "duration": 114,
    "start_time": "2023-04-29T09:24:28.648Z"
   },
   {
    "duration": 0,
    "start_time": "2023-04-29T09:24:28.772Z"
   },
   {
    "duration": 0,
    "start_time": "2023-04-29T09:24:28.773Z"
   },
   {
    "duration": 0,
    "start_time": "2023-04-29T09:24:28.774Z"
   },
   {
    "duration": 0,
    "start_time": "2023-04-29T09:24:28.775Z"
   },
   {
    "duration": 0,
    "start_time": "2023-04-29T09:24:28.777Z"
   },
   {
    "duration": 0,
    "start_time": "2023-04-29T09:24:28.778Z"
   },
   {
    "duration": 0,
    "start_time": "2023-04-29T09:24:28.780Z"
   },
   {
    "duration": 0,
    "start_time": "2023-04-29T09:24:28.781Z"
   },
   {
    "duration": 0,
    "start_time": "2023-04-29T09:24:28.783Z"
   },
   {
    "duration": 0,
    "start_time": "2023-04-29T09:24:28.784Z"
   },
   {
    "duration": 0,
    "start_time": "2023-04-29T09:24:28.786Z"
   },
   {
    "duration": 0,
    "start_time": "2023-04-29T09:24:28.787Z"
   },
   {
    "duration": 0,
    "start_time": "2023-04-29T09:24:28.790Z"
   },
   {
    "duration": 0,
    "start_time": "2023-04-29T09:24:28.791Z"
   },
   {
    "duration": 0,
    "start_time": "2023-04-29T09:24:28.793Z"
   },
   {
    "duration": 0,
    "start_time": "2023-04-29T09:24:28.794Z"
   },
   {
    "duration": 0,
    "start_time": "2023-04-29T09:24:28.796Z"
   },
   {
    "duration": 1,
    "start_time": "2023-04-29T09:24:28.797Z"
   },
   {
    "duration": 0,
    "start_time": "2023-04-29T09:24:28.799Z"
   },
   {
    "duration": 0,
    "start_time": "2023-04-29T09:24:28.801Z"
   },
   {
    "duration": 0,
    "start_time": "2023-04-29T09:24:28.802Z"
   },
   {
    "duration": 0,
    "start_time": "2023-04-29T09:24:28.803Z"
   },
   {
    "duration": 0,
    "start_time": "2023-04-29T09:24:28.805Z"
   },
   {
    "duration": 0,
    "start_time": "2023-04-29T09:24:28.807Z"
   },
   {
    "duration": 0,
    "start_time": "2023-04-29T09:24:28.808Z"
   },
   {
    "duration": 0,
    "start_time": "2023-04-29T09:24:28.810Z"
   },
   {
    "duration": 0,
    "start_time": "2023-04-29T09:24:28.811Z"
   },
   {
    "duration": 0,
    "start_time": "2023-04-29T09:24:28.871Z"
   },
   {
    "duration": 0,
    "start_time": "2023-04-29T09:24:28.873Z"
   },
   {
    "duration": 0,
    "start_time": "2023-04-29T09:24:28.875Z"
   },
   {
    "duration": 0,
    "start_time": "2023-04-29T09:24:28.876Z"
   },
   {
    "duration": 480,
    "start_time": "2023-04-29T09:25:10.603Z"
   },
   {
    "duration": 10,
    "start_time": "2023-04-29T09:25:13.903Z"
   },
   {
    "duration": 12,
    "start_time": "2023-04-29T09:25:53.486Z"
   },
   {
    "duration": 35,
    "start_time": "2023-04-29T09:25:53.505Z"
   },
   {
    "duration": 6,
    "start_time": "2023-04-29T09:25:53.542Z"
   },
   {
    "duration": 147,
    "start_time": "2023-04-29T09:25:53.550Z"
   },
   {
    "duration": 133,
    "start_time": "2023-04-29T09:25:53.700Z"
   },
   {
    "duration": 12,
    "start_time": "2023-04-29T09:25:53.834Z"
   },
   {
    "duration": 27,
    "start_time": "2023-04-29T09:25:53.848Z"
   },
   {
    "duration": 18,
    "start_time": "2023-04-29T09:25:53.876Z"
   },
   {
    "duration": 21,
    "start_time": "2023-04-29T09:25:53.896Z"
   },
   {
    "duration": 176,
    "start_time": "2023-04-29T09:25:53.919Z"
   },
   {
    "duration": 194,
    "start_time": "2023-04-29T09:25:54.097Z"
   },
   {
    "duration": 341,
    "start_time": "2023-04-29T09:25:54.292Z"
   },
   {
    "duration": 5,
    "start_time": "2023-04-29T09:25:54.637Z"
   },
   {
    "duration": 281,
    "start_time": "2023-04-29T09:25:54.644Z"
   },
   {
    "duration": 328,
    "start_time": "2023-04-29T09:25:54.926Z"
   },
   {
    "duration": 18,
    "start_time": "2023-04-29T09:25:55.255Z"
   },
   {
    "duration": 132,
    "start_time": "2023-04-29T09:25:55.274Z"
   },
   {
    "duration": 4,
    "start_time": "2023-04-29T09:25:55.407Z"
   },
   {
    "duration": 146,
    "start_time": "2023-04-29T09:25:55.412Z"
   },
   {
    "duration": 296,
    "start_time": "2023-04-29T09:25:55.560Z"
   },
   {
    "duration": 4,
    "start_time": "2023-04-29T09:25:55.857Z"
   },
   {
    "duration": 49,
    "start_time": "2023-04-29T09:25:55.871Z"
   },
   {
    "duration": 277,
    "start_time": "2023-04-29T09:25:55.922Z"
   },
   {
    "duration": 10,
    "start_time": "2023-04-29T09:25:56.202Z"
   },
   {
    "duration": 58,
    "start_time": "2023-04-29T09:25:56.214Z"
   },
   {
    "duration": 15,
    "start_time": "2023-04-29T09:25:56.275Z"
   },
   {
    "duration": 14,
    "start_time": "2023-04-29T09:25:56.292Z"
   },
   {
    "duration": 23,
    "start_time": "2023-04-29T09:25:56.308Z"
   },
   {
    "duration": 45,
    "start_time": "2023-04-29T09:25:56.334Z"
   },
   {
    "duration": 27,
    "start_time": "2023-04-29T09:25:56.381Z"
   }
  ],
  "kernelspec": {
   "display_name": "Python 3 (ipykernel)",
   "language": "python",
   "name": "python3"
  },
  "language_info": {
   "codemirror_mode": {
    "name": "ipython",
    "version": 3
   },
   "file_extension": ".py",
   "mimetype": "text/x-python",
   "name": "python",
   "nbconvert_exporter": "python",
   "pygments_lexer": "ipython3",
   "version": "3.9.13"
  },
  "toc": {
   "base_numbering": 1,
   "nav_menu": {},
   "number_sections": true,
   "sideBar": true,
   "skip_h1_title": true,
   "title_cell": "План",
   "title_sidebar": "Contents",
   "toc_cell": true,
   "toc_position": {
    "height": "calc(100% - 180px)",
    "left": "10px",
    "top": "150px",
    "width": "339.247px"
   },
   "toc_section_display": true,
   "toc_window_display": true
  },
  "varInspector": {
   "cols": {
    "lenName": 16,
    "lenType": 16,
    "lenVar": 40
   },
   "kernels_config": {
    "python": {
     "delete_cmd_postfix": "",
     "delete_cmd_prefix": "del ",
     "library": "var_list.py",
     "varRefreshCmd": "print(var_dic_list())"
    },
    "r": {
     "delete_cmd_postfix": ") ",
     "delete_cmd_prefix": "rm(",
     "library": "var_list.r",
     "varRefreshCmd": "cat(var_dic_list()) "
    }
   },
   "types_to_exclude": [
    "module",
    "function",
    "builtin_function_or_method",
    "instance",
    "_Feature"
   ],
   "window_display": false
  }
 },
 "nbformat": 4,
 "nbformat_minor": 5
}
